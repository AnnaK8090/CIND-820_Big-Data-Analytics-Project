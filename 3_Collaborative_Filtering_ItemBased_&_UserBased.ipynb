{
  "cells": [
    {
      "cell_type": "markdown",
      "metadata": {
        "id": "view-in-github",
        "colab_type": "text"
      },
      "source": [
        "<a href=\"https://colab.research.google.com/github/AnnaK8090/CIND-820_Big-Data-Analytics-Project/blob/main/3_Collaborative_Filtering_ItemBased_%26_UserBased.ipynb\" target=\"_parent\"><img src=\"https://colab.research.google.com/assets/colab-badge.svg\" alt=\"Open In Colab\"/></a>"
      ]
    },
    {
      "cell_type": "markdown",
      "source": [
        "Collaborative Filtering: Item Based and User Based Models"
      ],
      "metadata": {
        "id": "TiDN6qP8dH2s"
      }
    },
    {
      "cell_type": "code",
      "execution_count": 1,
      "metadata": {
        "id": "3qztHhqOtsRW"
      },
      "outputs": [],
      "source": [
        "# 1. Importing libraries:\n",
        "import numpy as np \n",
        "import pandas as pd      "
      ]
    },
    {
      "cell_type": "code",
      "execution_count": 2,
      "metadata": {
        "id": "Oyw0QZsE49Nz"
      },
      "outputs": [],
      "source": [
        "# 2. Loading csv file and saving it into a dataframe:\n",
        "result1 = pd.read_csv('result1.csv', on_bad_lines='skip')"
      ]
    },
    {
      "cell_type": "code",
      "execution_count": 3,
      "metadata": {
        "colab": {
          "base_uri": "https://localhost:8080/"
        },
        "id": "7YuYYSMiAZuI",
        "outputId": "6d41741e-3345-41f4-b5c3-cd34c5573cd3"
      },
      "outputs": [
        {
          "output_type": "execute_result",
          "data": {
            "text/plain": [
              "(11375, 4)"
            ]
          },
          "metadata": {},
          "execution_count": 3
        }
      ],
      "source": [
        "result1.shape"
      ]
    },
    {
      "cell_type": "code",
      "source": [
        "# 3. Descriptive statistics:\n",
        "# Number of users\n",
        "print('The dataset has', result1['customer_unique_id'].nunique(), 'unique users')\n",
        "# Number of products\n",
        "print('The ratings dataset has', result1['product_id'].nunique(), 'unique products')\n",
        "# Number of product categories\n",
        "print('The ratings dataset has', result1['product_category_name_english'].nunique(), 'unique product categories')\n",
        "# Number of ratings\n",
        "print('The ratings dataset has', result1['review_score'].nunique(), 'unique ratings:', sorted(result1['review_score'].unique()))"
      ],
      "metadata": {
        "colab": {
          "base_uri": "https://localhost:8080/"
        },
        "id": "EDJNirxgV4Al",
        "outputId": "b7035cc1-e9a2-47e2-e3c1-f03e3adc1206"
      },
      "execution_count": 4,
      "outputs": [
        {
          "output_type": "stream",
          "name": "stdout",
          "text": [
            "The dataset has 5167 unique users\n",
            "The ratings dataset has 7448 unique products\n",
            "The ratings dataset has 68 unique product categories\n",
            "The ratings dataset has 5 unique ratings: [1, 2, 3, 4, 5]\n"
          ]
        }
      ]
    },
    {
      "cell_type": "code",
      "execution_count": 5,
      "metadata": {
        "colab": {
          "base_uri": "https://localhost:8080/",
          "height": 331
        },
        "id": "OhfewpQHNW9W",
        "outputId": "548cc3fa-a5ad-4d84-8f78-5dcbcc9707d0"
      },
      "outputs": [
        {
          "output_type": "execute_result",
          "data": {
            "text/plain": [
              "product_id                        0011c512eb256aa0dbbb544d8dffcf6e  \\\n",
              "customer_unique_id                                                   \n",
              "00053a61a98854899e70ed204dd4bafe                               NaN   \n",
              "000de6019bb59f34c099a907c151d855                               NaN   \n",
              "000fbf0473c10fc1ab6f8d2d286ce20c                               NaN   \n",
              "001926cef41060fae572e2e7b30bd2a4                               NaN   \n",
              "001928b561575b2821c92254a2327d06                               NaN   \n",
              "\n",
              "product_id                        001b72dfd63e9833e8c02742adf472e3  \\\n",
              "customer_unique_id                                                   \n",
              "00053a61a98854899e70ed204dd4bafe                               NaN   \n",
              "000de6019bb59f34c099a907c151d855                               NaN   \n",
              "000fbf0473c10fc1ab6f8d2d286ce20c                               NaN   \n",
              "001926cef41060fae572e2e7b30bd2a4                               NaN   \n",
              "001928b561575b2821c92254a2327d06                               NaN   \n",
              "\n",
              "product_id                        00210e41887c2a8ef9f791ebc780cc36  \\\n",
              "customer_unique_id                                                   \n",
              "00053a61a98854899e70ed204dd4bafe                               NaN   \n",
              "000de6019bb59f34c099a907c151d855                               NaN   \n",
              "000fbf0473c10fc1ab6f8d2d286ce20c                               NaN   \n",
              "001926cef41060fae572e2e7b30bd2a4                               NaN   \n",
              "001928b561575b2821c92254a2327d06                               NaN   \n",
              "\n",
              "product_id                        00250175f79f584c14ab5cecd80553cd  \\\n",
              "customer_unique_id                                                   \n",
              "00053a61a98854899e70ed204dd4bafe                               NaN   \n",
              "000de6019bb59f34c099a907c151d855                               NaN   \n",
              "000fbf0473c10fc1ab6f8d2d286ce20c                               NaN   \n",
              "001926cef41060fae572e2e7b30bd2a4                               NaN   \n",
              "001928b561575b2821c92254a2327d06                               NaN   \n",
              "\n",
              "product_id                        002959d7a0b0990fe2d69988affcbc80  \\\n",
              "customer_unique_id                                                   \n",
              "00053a61a98854899e70ed204dd4bafe                               NaN   \n",
              "000de6019bb59f34c099a907c151d855                               NaN   \n",
              "000fbf0473c10fc1ab6f8d2d286ce20c                               NaN   \n",
              "001926cef41060fae572e2e7b30bd2a4                               NaN   \n",
              "001928b561575b2821c92254a2327d06                               NaN   \n",
              "\n",
              "product_id                        0042f1a9a7e0edd1400c6cd0fda065f8  \\\n",
              "customer_unique_id                                                   \n",
              "00053a61a98854899e70ed204dd4bafe                               NaN   \n",
              "000de6019bb59f34c099a907c151d855                               NaN   \n",
              "000fbf0473c10fc1ab6f8d2d286ce20c                               NaN   \n",
              "001926cef41060fae572e2e7b30bd2a4                               NaN   \n",
              "001928b561575b2821c92254a2327d06                               NaN   \n",
              "\n",
              "product_id                        005030ef108f58b46b78116f754d8d38  \\\n",
              "customer_unique_id                                                   \n",
              "00053a61a98854899e70ed204dd4bafe                               NaN   \n",
              "000de6019bb59f34c099a907c151d855                               NaN   \n",
              "000fbf0473c10fc1ab6f8d2d286ce20c                               NaN   \n",
              "001926cef41060fae572e2e7b30bd2a4                               NaN   \n",
              "001928b561575b2821c92254a2327d06                               NaN   \n",
              "\n",
              "product_id                        0060b415594c5e1200324ef1a18493c4  \\\n",
              "customer_unique_id                                                   \n",
              "00053a61a98854899e70ed204dd4bafe                               NaN   \n",
              "000de6019bb59f34c099a907c151d855                               NaN   \n",
              "000fbf0473c10fc1ab6f8d2d286ce20c                               NaN   \n",
              "001926cef41060fae572e2e7b30bd2a4                               NaN   \n",
              "001928b561575b2821c92254a2327d06                               NaN   \n",
              "\n",
              "product_id                        007c63ae4b346920756b5adcad8095de  \\\n",
              "customer_unique_id                                                   \n",
              "00053a61a98854899e70ed204dd4bafe                               NaN   \n",
              "000de6019bb59f34c099a907c151d855                               NaN   \n",
              "000fbf0473c10fc1ab6f8d2d286ce20c                               NaN   \n",
              "001926cef41060fae572e2e7b30bd2a4                               NaN   \n",
              "001928b561575b2821c92254a2327d06                               NaN   \n",
              "\n",
              "product_id                        008cff0e5792219fae03e570f980b330  ...  \\\n",
              "customer_unique_id                                                  ...   \n",
              "00053a61a98854899e70ed204dd4bafe                               NaN  ...   \n",
              "000de6019bb59f34c099a907c151d855                               NaN  ...   \n",
              "000fbf0473c10fc1ab6f8d2d286ce20c                               NaN  ...   \n",
              "001926cef41060fae572e2e7b30bd2a4                               NaN  ...   \n",
              "001928b561575b2821c92254a2327d06                               NaN  ...   \n",
              "\n",
              "product_id                        ff96895c6b1d31f34b2d82f86670fa85  \\\n",
              "customer_unique_id                                                   \n",
              "00053a61a98854899e70ed204dd4bafe                               NaN   \n",
              "000de6019bb59f34c099a907c151d855                               NaN   \n",
              "000fbf0473c10fc1ab6f8d2d286ce20c                               NaN   \n",
              "001926cef41060fae572e2e7b30bd2a4                               NaN   \n",
              "001928b561575b2821c92254a2327d06                               NaN   \n",
              "\n",
              "product_id                        ffaaddefb271481c66d4bd79844ecdae  \\\n",
              "customer_unique_id                                                   \n",
              "00053a61a98854899e70ed204dd4bafe                               NaN   \n",
              "000de6019bb59f34c099a907c151d855                               NaN   \n",
              "000fbf0473c10fc1ab6f8d2d286ce20c                               NaN   \n",
              "001926cef41060fae572e2e7b30bd2a4                               NaN   \n",
              "001928b561575b2821c92254a2327d06                               NaN   \n",
              "\n",
              "product_id                        ffb2e8c1ddc7c3e590d2bc4c91de53e1  \\\n",
              "customer_unique_id                                                   \n",
              "00053a61a98854899e70ed204dd4bafe                               NaN   \n",
              "000de6019bb59f34c099a907c151d855                               NaN   \n",
              "000fbf0473c10fc1ab6f8d2d286ce20c                               NaN   \n",
              "001926cef41060fae572e2e7b30bd2a4                               NaN   \n",
              "001928b561575b2821c92254a2327d06                               NaN   \n",
              "\n",
              "product_id                        ffbb3c00e9687ad738ace3977e821da5  \\\n",
              "customer_unique_id                                                   \n",
              "00053a61a98854899e70ed204dd4bafe                               NaN   \n",
              "000de6019bb59f34c099a907c151d855                               NaN   \n",
              "000fbf0473c10fc1ab6f8d2d286ce20c                               NaN   \n",
              "001926cef41060fae572e2e7b30bd2a4                               NaN   \n",
              "001928b561575b2821c92254a2327d06                               NaN   \n",
              "\n",
              "product_id                        ffbbf6b9097237a1122f17e7341a3fb2  \\\n",
              "customer_unique_id                                                   \n",
              "00053a61a98854899e70ed204dd4bafe                               NaN   \n",
              "000de6019bb59f34c099a907c151d855                               NaN   \n",
              "000fbf0473c10fc1ab6f8d2d286ce20c                               NaN   \n",
              "001926cef41060fae572e2e7b30bd2a4                               NaN   \n",
              "001928b561575b2821c92254a2327d06                               NaN   \n",
              "\n",
              "product_id                        ffbc83054b3741a8d67fc59d9cf9d42d  \\\n",
              "customer_unique_id                                                   \n",
              "00053a61a98854899e70ed204dd4bafe                               NaN   \n",
              "000de6019bb59f34c099a907c151d855                               NaN   \n",
              "000fbf0473c10fc1ab6f8d2d286ce20c                               NaN   \n",
              "001926cef41060fae572e2e7b30bd2a4                               NaN   \n",
              "001928b561575b2821c92254a2327d06                               NaN   \n",
              "\n",
              "product_id                        ffc0b406806006602c5853b00ab5f7fd  \\\n",
              "customer_unique_id                                                   \n",
              "00053a61a98854899e70ed204dd4bafe                               NaN   \n",
              "000de6019bb59f34c099a907c151d855                               NaN   \n",
              "000fbf0473c10fc1ab6f8d2d286ce20c                               NaN   \n",
              "001926cef41060fae572e2e7b30bd2a4                               NaN   \n",
              "001928b561575b2821c92254a2327d06                               NaN   \n",
              "\n",
              "product_id                        ffcfaba393e8ef71937c6e8421bc2868  \\\n",
              "customer_unique_id                                                   \n",
              "00053a61a98854899e70ed204dd4bafe                               NaN   \n",
              "000de6019bb59f34c099a907c151d855                               NaN   \n",
              "000fbf0473c10fc1ab6f8d2d286ce20c                               NaN   \n",
              "001926cef41060fae572e2e7b30bd2a4                               NaN   \n",
              "001928b561575b2821c92254a2327d06                               NaN   \n",
              "\n",
              "product_id                        ffd4bf4306745865e5692f69bd237893  \\\n",
              "customer_unique_id                                                   \n",
              "00053a61a98854899e70ed204dd4bafe                               NaN   \n",
              "000de6019bb59f34c099a907c151d855                               NaN   \n",
              "000fbf0473c10fc1ab6f8d2d286ce20c                               NaN   \n",
              "001926cef41060fae572e2e7b30bd2a4                               NaN   \n",
              "001928b561575b2821c92254a2327d06                               NaN   \n",
              "\n",
              "product_id                        ffe8083298f95571b4a66bfbc1c05524  \n",
              "customer_unique_id                                                  \n",
              "00053a61a98854899e70ed204dd4bafe                               NaN  \n",
              "000de6019bb59f34c099a907c151d855                               NaN  \n",
              "000fbf0473c10fc1ab6f8d2d286ce20c                               NaN  \n",
              "001926cef41060fae572e2e7b30bd2a4                               NaN  \n",
              "001928b561575b2821c92254a2327d06                               NaN  \n",
              "\n",
              "[5 rows x 7448 columns]"
            ],
            "text/html": [
              "\n",
              "  <div id=\"df-9b3f34f3-5ab3-44e1-af9e-05b5db0db20c\">\n",
              "    <div class=\"colab-df-container\">\n",
              "      <div>\n",
              "<style scoped>\n",
              "    .dataframe tbody tr th:only-of-type {\n",
              "        vertical-align: middle;\n",
              "    }\n",
              "\n",
              "    .dataframe tbody tr th {\n",
              "        vertical-align: top;\n",
              "    }\n",
              "\n",
              "    .dataframe thead th {\n",
              "        text-align: right;\n",
              "    }\n",
              "</style>\n",
              "<table border=\"1\" class=\"dataframe\">\n",
              "  <thead>\n",
              "    <tr style=\"text-align: right;\">\n",
              "      <th>product_id</th>\n",
              "      <th>0011c512eb256aa0dbbb544d8dffcf6e</th>\n",
              "      <th>001b72dfd63e9833e8c02742adf472e3</th>\n",
              "      <th>00210e41887c2a8ef9f791ebc780cc36</th>\n",
              "      <th>00250175f79f584c14ab5cecd80553cd</th>\n",
              "      <th>002959d7a0b0990fe2d69988affcbc80</th>\n",
              "      <th>0042f1a9a7e0edd1400c6cd0fda065f8</th>\n",
              "      <th>005030ef108f58b46b78116f754d8d38</th>\n",
              "      <th>0060b415594c5e1200324ef1a18493c4</th>\n",
              "      <th>007c63ae4b346920756b5adcad8095de</th>\n",
              "      <th>008cff0e5792219fae03e570f980b330</th>\n",
              "      <th>...</th>\n",
              "      <th>ff96895c6b1d31f34b2d82f86670fa85</th>\n",
              "      <th>ffaaddefb271481c66d4bd79844ecdae</th>\n",
              "      <th>ffb2e8c1ddc7c3e590d2bc4c91de53e1</th>\n",
              "      <th>ffbb3c00e9687ad738ace3977e821da5</th>\n",
              "      <th>ffbbf6b9097237a1122f17e7341a3fb2</th>\n",
              "      <th>ffbc83054b3741a8d67fc59d9cf9d42d</th>\n",
              "      <th>ffc0b406806006602c5853b00ab5f7fd</th>\n",
              "      <th>ffcfaba393e8ef71937c6e8421bc2868</th>\n",
              "      <th>ffd4bf4306745865e5692f69bd237893</th>\n",
              "      <th>ffe8083298f95571b4a66bfbc1c05524</th>\n",
              "    </tr>\n",
              "    <tr>\n",
              "      <th>customer_unique_id</th>\n",
              "      <th></th>\n",
              "      <th></th>\n",
              "      <th></th>\n",
              "      <th></th>\n",
              "      <th></th>\n",
              "      <th></th>\n",
              "      <th></th>\n",
              "      <th></th>\n",
              "      <th></th>\n",
              "      <th></th>\n",
              "      <th></th>\n",
              "      <th></th>\n",
              "      <th></th>\n",
              "      <th></th>\n",
              "      <th></th>\n",
              "      <th></th>\n",
              "      <th></th>\n",
              "      <th></th>\n",
              "      <th></th>\n",
              "      <th></th>\n",
              "      <th></th>\n",
              "    </tr>\n",
              "  </thead>\n",
              "  <tbody>\n",
              "    <tr>\n",
              "      <th>00053a61a98854899e70ed204dd4bafe</th>\n",
              "      <td>NaN</td>\n",
              "      <td>NaN</td>\n",
              "      <td>NaN</td>\n",
              "      <td>NaN</td>\n",
              "      <td>NaN</td>\n",
              "      <td>NaN</td>\n",
              "      <td>NaN</td>\n",
              "      <td>NaN</td>\n",
              "      <td>NaN</td>\n",
              "      <td>NaN</td>\n",
              "      <td>...</td>\n",
              "      <td>NaN</td>\n",
              "      <td>NaN</td>\n",
              "      <td>NaN</td>\n",
              "      <td>NaN</td>\n",
              "      <td>NaN</td>\n",
              "      <td>NaN</td>\n",
              "      <td>NaN</td>\n",
              "      <td>NaN</td>\n",
              "      <td>NaN</td>\n",
              "      <td>NaN</td>\n",
              "    </tr>\n",
              "    <tr>\n",
              "      <th>000de6019bb59f34c099a907c151d855</th>\n",
              "      <td>NaN</td>\n",
              "      <td>NaN</td>\n",
              "      <td>NaN</td>\n",
              "      <td>NaN</td>\n",
              "      <td>NaN</td>\n",
              "      <td>NaN</td>\n",
              "      <td>NaN</td>\n",
              "      <td>NaN</td>\n",
              "      <td>NaN</td>\n",
              "      <td>NaN</td>\n",
              "      <td>...</td>\n",
              "      <td>NaN</td>\n",
              "      <td>NaN</td>\n",
              "      <td>NaN</td>\n",
              "      <td>NaN</td>\n",
              "      <td>NaN</td>\n",
              "      <td>NaN</td>\n",
              "      <td>NaN</td>\n",
              "      <td>NaN</td>\n",
              "      <td>NaN</td>\n",
              "      <td>NaN</td>\n",
              "    </tr>\n",
              "    <tr>\n",
              "      <th>000fbf0473c10fc1ab6f8d2d286ce20c</th>\n",
              "      <td>NaN</td>\n",
              "      <td>NaN</td>\n",
              "      <td>NaN</td>\n",
              "      <td>NaN</td>\n",
              "      <td>NaN</td>\n",
              "      <td>NaN</td>\n",
              "      <td>NaN</td>\n",
              "      <td>NaN</td>\n",
              "      <td>NaN</td>\n",
              "      <td>NaN</td>\n",
              "      <td>...</td>\n",
              "      <td>NaN</td>\n",
              "      <td>NaN</td>\n",
              "      <td>NaN</td>\n",
              "      <td>NaN</td>\n",
              "      <td>NaN</td>\n",
              "      <td>NaN</td>\n",
              "      <td>NaN</td>\n",
              "      <td>NaN</td>\n",
              "      <td>NaN</td>\n",
              "      <td>NaN</td>\n",
              "    </tr>\n",
              "    <tr>\n",
              "      <th>001926cef41060fae572e2e7b30bd2a4</th>\n",
              "      <td>NaN</td>\n",
              "      <td>NaN</td>\n",
              "      <td>NaN</td>\n",
              "      <td>NaN</td>\n",
              "      <td>NaN</td>\n",
              "      <td>NaN</td>\n",
              "      <td>NaN</td>\n",
              "      <td>NaN</td>\n",
              "      <td>NaN</td>\n",
              "      <td>NaN</td>\n",
              "      <td>...</td>\n",
              "      <td>NaN</td>\n",
              "      <td>NaN</td>\n",
              "      <td>NaN</td>\n",
              "      <td>NaN</td>\n",
              "      <td>NaN</td>\n",
              "      <td>NaN</td>\n",
              "      <td>NaN</td>\n",
              "      <td>NaN</td>\n",
              "      <td>NaN</td>\n",
              "      <td>NaN</td>\n",
              "    </tr>\n",
              "    <tr>\n",
              "      <th>001928b561575b2821c92254a2327d06</th>\n",
              "      <td>NaN</td>\n",
              "      <td>NaN</td>\n",
              "      <td>NaN</td>\n",
              "      <td>NaN</td>\n",
              "      <td>NaN</td>\n",
              "      <td>NaN</td>\n",
              "      <td>NaN</td>\n",
              "      <td>NaN</td>\n",
              "      <td>NaN</td>\n",
              "      <td>NaN</td>\n",
              "      <td>...</td>\n",
              "      <td>NaN</td>\n",
              "      <td>NaN</td>\n",
              "      <td>NaN</td>\n",
              "      <td>NaN</td>\n",
              "      <td>NaN</td>\n",
              "      <td>NaN</td>\n",
              "      <td>NaN</td>\n",
              "      <td>NaN</td>\n",
              "      <td>NaN</td>\n",
              "      <td>NaN</td>\n",
              "    </tr>\n",
              "  </tbody>\n",
              "</table>\n",
              "<p>5 rows × 7448 columns</p>\n",
              "</div>\n",
              "      <button class=\"colab-df-convert\" onclick=\"convertToInteractive('df-9b3f34f3-5ab3-44e1-af9e-05b5db0db20c')\"\n",
              "              title=\"Convert this dataframe to an interactive table.\"\n",
              "              style=\"display:none;\">\n",
              "        \n",
              "  <svg xmlns=\"http://www.w3.org/2000/svg\" height=\"24px\"viewBox=\"0 0 24 24\"\n",
              "       width=\"24px\">\n",
              "    <path d=\"M0 0h24v24H0V0z\" fill=\"none\"/>\n",
              "    <path d=\"M18.56 5.44l.94 2.06.94-2.06 2.06-.94-2.06-.94-.94-2.06-.94 2.06-2.06.94zm-11 1L8.5 8.5l.94-2.06 2.06-.94-2.06-.94L8.5 2.5l-.94 2.06-2.06.94zm10 10l.94 2.06.94-2.06 2.06-.94-2.06-.94-.94-2.06-.94 2.06-2.06.94z\"/><path d=\"M17.41 7.96l-1.37-1.37c-.4-.4-.92-.59-1.43-.59-.52 0-1.04.2-1.43.59L10.3 9.45l-7.72 7.72c-.78.78-.78 2.05 0 2.83L4 21.41c.39.39.9.59 1.41.59.51 0 1.02-.2 1.41-.59l7.78-7.78 2.81-2.81c.8-.78.8-2.07 0-2.86zM5.41 20L4 18.59l7.72-7.72 1.47 1.35L5.41 20z\"/>\n",
              "  </svg>\n",
              "      </button>\n",
              "      \n",
              "  <style>\n",
              "    .colab-df-container {\n",
              "      display:flex;\n",
              "      flex-wrap:wrap;\n",
              "      gap: 12px;\n",
              "    }\n",
              "\n",
              "    .colab-df-convert {\n",
              "      background-color: #E8F0FE;\n",
              "      border: none;\n",
              "      border-radius: 50%;\n",
              "      cursor: pointer;\n",
              "      display: none;\n",
              "      fill: #1967D2;\n",
              "      height: 32px;\n",
              "      padding: 0 0 0 0;\n",
              "      width: 32px;\n",
              "    }\n",
              "\n",
              "    .colab-df-convert:hover {\n",
              "      background-color: #E2EBFA;\n",
              "      box-shadow: 0px 1px 2px rgba(60, 64, 67, 0.3), 0px 1px 3px 1px rgba(60, 64, 67, 0.15);\n",
              "      fill: #174EA6;\n",
              "    }\n",
              "\n",
              "    [theme=dark] .colab-df-convert {\n",
              "      background-color: #3B4455;\n",
              "      fill: #D2E3FC;\n",
              "    }\n",
              "\n",
              "    [theme=dark] .colab-df-convert:hover {\n",
              "      background-color: #434B5C;\n",
              "      box-shadow: 0px 1px 3px 1px rgba(0, 0, 0, 0.15);\n",
              "      filter: drop-shadow(0px 1px 2px rgba(0, 0, 0, 0.3));\n",
              "      fill: #FFFFFF;\n",
              "    }\n",
              "  </style>\n",
              "\n",
              "      <script>\n",
              "        const buttonEl =\n",
              "          document.querySelector('#df-9b3f34f3-5ab3-44e1-af9e-05b5db0db20c button.colab-df-convert');\n",
              "        buttonEl.style.display =\n",
              "          google.colab.kernel.accessAllowed ? 'block' : 'none';\n",
              "\n",
              "        async function convertToInteractive(key) {\n",
              "          const element = document.querySelector('#df-9b3f34f3-5ab3-44e1-af9e-05b5db0db20c');\n",
              "          const dataTable =\n",
              "            await google.colab.kernel.invokeFunction('convertToInteractive',\n",
              "                                                     [key], {});\n",
              "          if (!dataTable) return;\n",
              "\n",
              "          const docLinkHtml = 'Like what you see? Visit the ' +\n",
              "            '<a target=\"_blank\" href=https://colab.research.google.com/notebooks/data_table.ipynb>data table notebook</a>'\n",
              "            + ' to learn more about interactive tables.';\n",
              "          element.innerHTML = '';\n",
              "          dataTable['output_type'] = 'display_data';\n",
              "          await google.colab.output.renderOutput(dataTable, element);\n",
              "          const docLink = document.createElement('div');\n",
              "          docLink.innerHTML = docLinkHtml;\n",
              "          element.appendChild(docLink);\n",
              "        }\n",
              "      </script>\n",
              "    </div>\n",
              "  </div>\n",
              "  "
            ]
          },
          "metadata": {},
          "execution_count": 5
        }
      ],
      "source": [
        "# 4. User-Item matrix\n",
        "\n",
        "matrix = result1.pivot_table(index='customer_unique_id', columns='product_id', values='review_score')\n",
        "matrix.head()"
      ]
    },
    {
      "cell_type": "code",
      "source": [
        "type(matrix)"
      ],
      "metadata": {
        "colab": {
          "base_uri": "https://localhost:8080/"
        },
        "id": "QAt1zyKVYJ7b",
        "outputId": "c48850ad-b4dc-46a1-de0e-a065e869fc7e"
      },
      "execution_count": 6,
      "outputs": [
        {
          "output_type": "execute_result",
          "data": {
            "text/plain": [
              "pandas.core.frame.DataFrame"
            ]
          },
          "metadata": {},
          "execution_count": 6
        }
      ]
    },
    {
      "cell_type": "code",
      "execution_count": 7,
      "metadata": {
        "id": "GZSMazviR9MP"
      },
      "outputs": [],
      "source": [
        "# 5. Transforming matrix into array:\n",
        "matrixA = np.squeeze(np.asarray(matrix))"
      ]
    },
    {
      "cell_type": "code",
      "source": [
        "type(matrixA)"
      ],
      "metadata": {
        "colab": {
          "base_uri": "https://localhost:8080/"
        },
        "id": "X71MlhQ4YdxA",
        "outputId": "3c599c97-19af-44af-847c-8700bdc1e408"
      },
      "execution_count": 8,
      "outputs": [
        {
          "output_type": "execute_result",
          "data": {
            "text/plain": [
              "numpy.ndarray"
            ]
          },
          "metadata": {},
          "execution_count": 8
        }
      ]
    },
    {
      "cell_type": "code",
      "execution_count": 9,
      "metadata": {
        "id": "Gab7LR1kSZf8"
      },
      "outputs": [],
      "source": [
        "matrixA[np. isnan(matrixA)] = 0 "
      ]
    },
    {
      "cell_type": "code",
      "execution_count": 10,
      "metadata": {
        "colab": {
          "base_uri": "https://localhost:8080/"
        },
        "id": "SUa9b-W5T65T",
        "outputId": "5c17e052-3107-47de-eb27-851666317761"
      },
      "outputs": [
        {
          "output_type": "execute_result",
          "data": {
            "text/plain": [
              "5167"
            ]
          },
          "metadata": {},
          "execution_count": 10
        }
      ],
      "source": [
        "matrixA.shape[0]"
      ]
    },
    {
      "cell_type": "code",
      "execution_count": 11,
      "metadata": {
        "colab": {
          "base_uri": "https://localhost:8080/"
        },
        "id": "N4336SeJT8YK",
        "outputId": "54c146bb-b572-4aa3-a15c-f0070c16549b"
      },
      "outputs": [
        {
          "output_type": "execute_result",
          "data": {
            "text/plain": [
              "7448"
            ]
          },
          "metadata": {},
          "execution_count": 11
        }
      ],
      "source": [
        "matrixA.shape[1]"
      ]
    },
    {
      "cell_type": "code",
      "execution_count": 12,
      "metadata": {
        "colab": {
          "base_uri": "https://localhost:8080/"
        },
        "id": "aVaHzfVRUBtZ",
        "outputId": "0697d1e0-870b-482f-d2ee-cae58c2a3ac9"
      },
      "outputs": [
        {
          "output_type": "execute_result",
          "data": {
            "text/plain": [
              "11375.0"
            ]
          },
          "metadata": {},
          "execution_count": 12
        }
      ],
      "source": [
        "float(len(matrixA.nonzero()[0]))"
      ]
    },
    {
      "cell_type": "code",
      "execution_count": 13,
      "metadata": {
        "colab": {
          "base_uri": "https://localhost:8080/"
        },
        "id": "UXIGi8EbRZDu",
        "outputId": "8d832efa-23ff-4552-c4fd-34657323750a"
      },
      "outputs": [
        {
          "output_type": "stream",
          "name": "stdout",
          "text": [
            "Sparsity: 0.03%\n"
          ]
        }
      ],
      "source": [
        "# 6. Checking user-item matrix sparsity - % of the user-item ratings have a value. \n",
        "sparsity = float(len(matrixA.nonzero()[0]))\n",
        "sparsity /= (matrixA.shape[0] * matrixA.shape[1])\n",
        "sparsity *= 100\n",
        "print ('Sparsity: {:4.2f}%'.format(sparsity))"
      ]
    },
    {
      "cell_type": "code",
      "execution_count": 14,
      "metadata": {
        "colab": {
          "base_uri": "https://localhost:8080/"
        },
        "id": "ZX5pdf2eVoRF",
        "outputId": "079f37d1-94ae-4ef9-cb76-6a19ba195b06"
      },
      "outputs": [
        {
          "output_type": "execute_result",
          "data": {
            "text/plain": [
              "array([[0., 0., 0., ..., 0., 0., 0.],\n",
              "       [0., 0., 0., ..., 0., 0., 0.],\n",
              "       [0., 0., 0., ..., 0., 0., 0.],\n",
              "       ...,\n",
              "       [0., 0., 0., ..., 0., 0., 0.],\n",
              "       [0., 0., 0., ..., 0., 0., 0.],\n",
              "       [0., 0., 0., ..., 0., 0., 0.]])"
            ]
          },
          "metadata": {},
          "execution_count": 14
        }
      ],
      "source": [
        "ratings=matrixA.copy()\n",
        "ratings"
      ]
    },
    {
      "cell_type": "code",
      "execution_count": 15,
      "metadata": {
        "id": "rdHTl4T2VGzn"
      },
      "outputs": [],
      "source": [
        " # 7. Splitting the data into training and test sets by removing 1 rating per user from the training set and placing them in the test set:\n",
        " def train_test_split(ratings):\n",
        "    test = np.zeros(ratings.shape)\n",
        "    train = ratings.copy()\n",
        "    for user in range(ratings.shape[0]):\n",
        "        test_ratings = np.random.choice(ratings[user, :].nonzero()[0], \n",
        "                                        size=1, \n",
        "                                        replace=False)\n",
        "        train[user, test_ratings] = 0.\n",
        "        test[user, test_ratings] = ratings[user, test_ratings]\n",
        "        \n",
        "    # Test and training are truly disjoint\n",
        "    assert(np.all((train * test) == 0)) \n",
        "    return train, test"
      ]
    },
    {
      "cell_type": "code",
      "execution_count": 16,
      "metadata": {
        "id": "aJl2hweMV5BF"
      },
      "outputs": [],
      "source": [
        "train, test = train_test_split(ratings)"
      ]
    },
    {
      "cell_type": "code",
      "execution_count": 17,
      "metadata": {
        "id": "uwLUQaOcXW8z"
      },
      "outputs": [],
      "source": [
        "# 8. Collaborative filtering for user- and item-based scenario needs a similarity matrix. \n",
        "# For user-based collaborative filtering, the user-similarity matrix will consist of some distance metric that measures the similarity between any two pairs of users. \n",
        "# Likewise, the item-similarity matrix will measure the similarity between any two pairs of items.\n",
        "# A common distance metric is cosine similarity. The metric is measured as the cosine of the angle between the two users’ or two items’ vectors. \n",
        "\n",
        "def fast_similarity(ratings, kind='user', epsilon=1e-9):\n",
        "    # epsilon -> small number for handling dived-by-zero errors\n",
        "    if kind == 'user':\n",
        "        sim = ratings.dot(ratings.T) + epsilon\n",
        "    elif kind == 'item':\n",
        "        sim = ratings.T.dot(ratings) + epsilon\n",
        "    norms = np.array([np.sqrt(np.diagonal(sim))])\n",
        "    return (sim / norms / norms.T)"
      ]
    },
    {
      "cell_type": "code",
      "execution_count": 18,
      "metadata": {
        "colab": {
          "base_uri": "https://localhost:8080/"
        },
        "id": "rd7rfOE_XbyF",
        "outputId": "18687532-6c0d-46ae-8895-976480e9b9bd"
      },
      "outputs": [
        {
          "output_type": "stream",
          "name": "stdout",
          "text": [
            "[[1.00000000e+00 6.32455532e-06 1.00000000e+00 6.32455532e-06]\n",
            " [6.32455532e-06 1.00000000e+00 6.32455532e-06 4.00000000e-11]\n",
            " [1.00000000e+00 6.32455532e-06 1.00000000e+00 6.32455532e-06]\n",
            " [6.32455532e-06 4.00000000e-11 6.32455532e-06 1.00000000e+00]]\n"
          ]
        }
      ],
      "source": [
        "# 9. Similarity matrices:\n",
        "item_similarity = fast_similarity(train, kind='item')\n",
        "print (item_similarity[:4, :4])"
      ]
    },
    {
      "cell_type": "code",
      "execution_count": 19,
      "metadata": {
        "colab": {
          "base_uri": "https://localhost:8080/"
        },
        "id": "94rZ_kyaYc7G",
        "outputId": "eae52342-81f1-43f8-e215-d1f9abb37e0e"
      },
      "outputs": [
        {
          "output_type": "stream",
          "name": "stdout",
          "text": [
            "[[1.00e+00 5.00e-10 2.00e-10 2.50e-10]\n",
            " [5.00e-10 1.00e+00 1.00e-10 1.25e-10]\n",
            " [2.00e-10 1.00e-10 1.00e+00 5.00e-11]\n",
            " [2.50e-10 1.25e-10 5.00e-11 1.00e+00]]\n"
          ]
        }
      ],
      "source": [
        "user_similarity = fast_similarity(train, kind='user')\n",
        "print (user_similarity[:4, :4])"
      ]
    },
    {
      "cell_type": "code",
      "execution_count": 20,
      "metadata": {
        "id": "q2ibW-eDciOk"
      },
      "outputs": [],
      "source": [
        "# 10. We can now predict the ratings that were not included with the data. \n",
        "# Using these predictions, we can then compare them with the test data to attempt to validate the quality of our recommender model.\n",
        "def predict_fast_simple(ratings, similarity, kind='user'):\n",
        "    if kind == 'user':\n",
        "        return similarity.dot(ratings) / np.array([np.abs(similarity).sum(axis=1)]).T\n",
        "    elif kind == 'item':\n",
        "        return ratings.dot(similarity) / np.array([np.abs(similarity).sum(axis=1)])"
      ]
    },
    {
      "cell_type": "code",
      "execution_count": 21,
      "metadata": {
        "colab": {
          "base_uri": "https://localhost:8080/"
        },
        "id": "x998SSNddEcq",
        "outputId": "d125312d-0590-40a9-c9cb-986895f4303b"
      },
      "outputs": [
        {
          "output_type": "stream",
          "name": "stdout",
          "text": [
            "13.2 s ± 176 ms per loop (mean ± std. dev. of 7 runs, 1 loop each)\n"
          ]
        }
      ],
      "source": [
        "%timeit predict_fast_simple(train, user_similarity, kind='user')"
      ]
    },
    {
      "cell_type": "code",
      "execution_count": 22,
      "metadata": {
        "id": "01dxzCr1Yt9s"
      },
      "outputs": [],
      "source": [
        "# 11. We’ll use MSE, RMSE and MAE as our validation metrics for accuracy  \n",
        "# Comparing user- and item-based collaborative filtering, it looks like item-based collaborative filtering gives us a slightly better result.\n",
        "\n",
        "from sklearn.metrics import mean_squared_error\n",
        "\n",
        "def get_mse(pred, actual):\n",
        "    # Ignore nonzero terms.\n",
        "    pred = pred[actual.nonzero()].flatten()\n",
        "    actual = actual[actual.nonzero()].flatten()\n",
        "    return mean_squared_error(pred, actual)"
      ]
    },
    {
      "cell_type": "code",
      "source": [
        "import math\n",
        "from sklearn.metrics import mean_absolute_error"
      ],
      "metadata": {
        "id": "w3p3wGzN6pUU"
      },
      "execution_count": 23,
      "outputs": []
    },
    {
      "cell_type": "code",
      "execution_count": 24,
      "metadata": {
        "colab": {
          "base_uri": "https://localhost:8080/"
        },
        "id": "FaqSnZjHd5XK",
        "outputId": "9ac6321b-a162-47e4-9a43-74904142cbe1"
      },
      "outputs": [
        {
          "output_type": "stream",
          "name": "stdout",
          "text": [
            "User-based CF MSE: 16.385412978361867\n",
            "Item-based CF MSE: 16.375804039143066\n",
            "User-based CF RMSE: 4.047889941483324\n",
            "Item-based CF RMSE: 4.04670286024846\n",
            "User-based CF MAE: 0.0011074870479455608\n",
            "Item-based CF MAE: 0.0010987917725354354\n"
          ]
        }
      ],
      "source": [
        "# 12. Predictions and MSE metric calculation: \n",
        "item_prediction = predict_fast_simple(train, item_similarity, kind='item')\n",
        "user_prediction = predict_fast_simple(train, user_similarity, kind='user')\n",
        "\n",
        "print ('User-based CF MSE: ' + str(get_mse(user_prediction, test)))\n",
        "print ('Item-based CF MSE: ' + str(get_mse(item_prediction, test)))\n",
        "\n",
        "print ('User-based CF RMSE: ' + str(math.sqrt(get_mse(user_prediction, test))))\n",
        "print ('Item-based CF RMSE: ' + str(math.sqrt(get_mse(item_prediction, test))))\n",
        "\n",
        "print ('User-based CF MAE: ' + str(mean_absolute_error(user_prediction, test)))\n",
        "print ('Item-based CF MAE: ' + str(mean_absolute_error(item_prediction, test)))"
      ]
    },
    {
      "cell_type": "code",
      "execution_count": 25,
      "metadata": {
        "id": "CdkJldSTfwNt"
      },
      "outputs": [],
      "source": [
        "# 13. Top-kk Collaborative Filtering - an attempt to improve our prediction MSE by only considering the top kk users who are most similar to the input user (or, similarly, the top kk items).\n",
        "def predict_topk(ratings, similarity, kind='user', k=20):\n",
        "    pred = np.zeros(ratings.shape)\n",
        "    if kind == 'user':\n",
        "        for i in range(ratings.shape[0]):\n",
        "            top_k_users = [np.argsort(similarity[:,i])[:-k-1:-1]]\n",
        "            for j in range(ratings.shape[1]):\n",
        "                pred[i, j] = similarity[i, :][top_k_users].dot(ratings[:, j][top_k_users]) \n",
        "                pred[i, j] /= np.sum(np.abs(similarity[i, :][top_k_users]))\n",
        "    if kind == 'item':\n",
        "        for j in range(ratings.shape[1]):\n",
        "            top_k_items = [np.argsort(similarity[:,j])[:-k-1:-1]]\n",
        "            for i in range(ratings.shape[0]):\n",
        "                pred[i, j] = similarity[j, :][top_k_items].dot(ratings[i, :][top_k_items].T) \n",
        "                pred[i, j] /= np.sum(np.abs(similarity[j, :][top_k_items]))        \n",
        "    \n",
        "    return pred"
      ]
    },
    {
      "cell_type": "code",
      "execution_count": 26,
      "metadata": {
        "colab": {
          "base_uri": "https://localhost:8080/"
        },
        "id": "C1wdBUQtgE_x",
        "outputId": "b001b880-e93e-4b6a-b865-2d283f32a478"
      },
      "outputs": [
        {
          "output_type": "stream",
          "name": "stderr",
          "text": [
            "<ipython-input-25-ab0d01a573e0>:8: FutureWarning: Using a non-tuple sequence for multidimensional indexing is deprecated; use `arr[tuple(seq)]` instead of `arr[seq]`. In the future this will be interpreted as an array index, `arr[np.array(seq)]`, which will result either in an error or a different result.\n",
            "  pred[i, j] = similarity[i, :][top_k_users].dot(ratings[:, j][top_k_users])\n",
            "<ipython-input-25-ab0d01a573e0>:9: FutureWarning: Using a non-tuple sequence for multidimensional indexing is deprecated; use `arr[tuple(seq)]` instead of `arr[seq]`. In the future this will be interpreted as an array index, `arr[np.array(seq)]`, which will result either in an error or a different result.\n",
            "  pred[i, j] /= np.sum(np.abs(similarity[i, :][top_k_users]))\n"
          ]
        },
        {
          "output_type": "stream",
          "name": "stdout",
          "text": [
            "Top-k User-based CF MSE: 16.40787038451949\n"
          ]
        },
        {
          "output_type": "stream",
          "name": "stderr",
          "text": [
            "<ipython-input-25-ab0d01a573e0>:14: FutureWarning: Using a non-tuple sequence for multidimensional indexing is deprecated; use `arr[tuple(seq)]` instead of `arr[seq]`. In the future this will be interpreted as an array index, `arr[np.array(seq)]`, which will result either in an error or a different result.\n",
            "  pred[i, j] = similarity[j, :][top_k_items].dot(ratings[i, :][top_k_items].T)\n",
            "<ipython-input-25-ab0d01a573e0>:15: FutureWarning: Using a non-tuple sequence for multidimensional indexing is deprecated; use `arr[tuple(seq)]` instead of `arr[seq]`. In the future this will be interpreted as an array index, `arr[np.array(seq)]`, which will result either in an error or a different result.\n",
            "  pred[i, j] /= np.sum(np.abs(similarity[j, :][top_k_items]))\n"
          ]
        },
        {
          "output_type": "stream",
          "name": "stdout",
          "text": [
            "Top-k Item-based CF MSE: 16.374597921649123\n"
          ]
        }
      ],
      "source": [
        "# Top-20 neighbors MSE calculation: \n",
        "pred = predict_topk(train, user_similarity, kind='user', k=20)\n",
        "print ('Top-k User-based CF MSE: ' + str(get_mse(pred, test)))\n",
        "\n",
        "pred = predict_topk(train, item_similarity, kind='item', k=20)\n",
        "print ('Top-k Item-based CF MSE: ' + str(get_mse(pred, test)))"
      ]
    },
    {
      "cell_type": "code",
      "source": [
        "# Top-10 neighbors MSE calculation: \n",
        "pred = predict_topk(train, user_similarity, kind='user', k=10)\n",
        "print ('Top-k User-based CF MSE: ' + str(get_mse(pred, test)))\n",
        "\n",
        "pred = predict_topk(train, item_similarity, kind='item', k=10)\n",
        "print ('Top-k Item-based CF MSE: ' + str(get_mse(pred, test)))"
      ],
      "metadata": {
        "colab": {
          "base_uri": "https://localhost:8080/"
        },
        "id": "GIvspo8LerFe",
        "outputId": "b7c256a7-8e90-4c2a-c43c-a1a7d7698601"
      },
      "execution_count": 28,
      "outputs": [
        {
          "output_type": "stream",
          "name": "stderr",
          "text": [
            "<ipython-input-25-ab0d01a573e0>:8: FutureWarning: Using a non-tuple sequence for multidimensional indexing is deprecated; use `arr[tuple(seq)]` instead of `arr[seq]`. In the future this will be interpreted as an array index, `arr[np.array(seq)]`, which will result either in an error or a different result.\n",
            "  pred[i, j] = similarity[i, :][top_k_users].dot(ratings[:, j][top_k_users])\n",
            "<ipython-input-25-ab0d01a573e0>:9: FutureWarning: Using a non-tuple sequence for multidimensional indexing is deprecated; use `arr[tuple(seq)]` instead of `arr[seq]`. In the future this will be interpreted as an array index, `arr[np.array(seq)]`, which will result either in an error or a different result.\n",
            "  pred[i, j] /= np.sum(np.abs(similarity[i, :][top_k_users]))\n"
          ]
        },
        {
          "output_type": "stream",
          "name": "stdout",
          "text": [
            "Top-k User-based CF MSE: 16.41465778508225\n"
          ]
        },
        {
          "output_type": "stream",
          "name": "stderr",
          "text": [
            "<ipython-input-25-ab0d01a573e0>:14: FutureWarning: Using a non-tuple sequence for multidimensional indexing is deprecated; use `arr[tuple(seq)]` instead of `arr[seq]`. In the future this will be interpreted as an array index, `arr[np.array(seq)]`, which will result either in an error or a different result.\n",
            "  pred[i, j] = similarity[j, :][top_k_items].dot(ratings[i, :][top_k_items].T)\n",
            "<ipython-input-25-ab0d01a573e0>:15: FutureWarning: Using a non-tuple sequence for multidimensional indexing is deprecated; use `arr[tuple(seq)]` instead of `arr[seq]`. In the future this will be interpreted as an array index, `arr[np.array(seq)]`, which will result either in an error or a different result.\n",
            "  pred[i, j] /= np.sum(np.abs(similarity[j, :][top_k_items]))\n"
          ]
        },
        {
          "output_type": "stream",
          "name": "stdout",
          "text": [
            "Top-k Item-based CF MSE: 16.374587293738408\n"
          ]
        }
      ]
    },
    {
      "cell_type": "code",
      "source": [
        "# Top-30 neighbors MSE calculation: \n",
        "pred = predict_topk(train, user_similarity, kind='user', k=30)\n",
        "print ('Top-k User-based CF MSE: ' + str(get_mse(pred, test)))\n",
        "\n",
        "pred = predict_topk(train, item_similarity, kind='item', k=30)\n",
        "print ('Top-k Item-based CF MSE: ' + str(get_mse(pred, test)))"
      ],
      "metadata": {
        "colab": {
          "base_uri": "https://localhost:8080/"
        },
        "id": "bzhXx1NjkauX",
        "outputId": "e63e8ef4-e7b4-4f33-9978-8f7145435fcd"
      },
      "execution_count": 29,
      "outputs": [
        {
          "output_type": "stream",
          "name": "stderr",
          "text": [
            "<ipython-input-25-ab0d01a573e0>:8: FutureWarning: Using a non-tuple sequence for multidimensional indexing is deprecated; use `arr[tuple(seq)]` instead of `arr[seq]`. In the future this will be interpreted as an array index, `arr[np.array(seq)]`, which will result either in an error or a different result.\n",
            "  pred[i, j] = similarity[i, :][top_k_users].dot(ratings[:, j][top_k_users])\n",
            "<ipython-input-25-ab0d01a573e0>:9: FutureWarning: Using a non-tuple sequence for multidimensional indexing is deprecated; use `arr[tuple(seq)]` instead of `arr[seq]`. In the future this will be interpreted as an array index, `arr[np.array(seq)]`, which will result either in an error or a different result.\n",
            "  pred[i, j] /= np.sum(np.abs(similarity[i, :][top_k_users]))\n"
          ]
        },
        {
          "output_type": "stream",
          "name": "stdout",
          "text": [
            "Top-k User-based CF MSE: 16.39554761549413\n"
          ]
        },
        {
          "output_type": "stream",
          "name": "stderr",
          "text": [
            "<ipython-input-25-ab0d01a573e0>:14: FutureWarning: Using a non-tuple sequence for multidimensional indexing is deprecated; use `arr[tuple(seq)]` instead of `arr[seq]`. In the future this will be interpreted as an array index, `arr[np.array(seq)]`, which will result either in an error or a different result.\n",
            "  pred[i, j] = similarity[j, :][top_k_items].dot(ratings[i, :][top_k_items].T)\n",
            "<ipython-input-25-ab0d01a573e0>:15: FutureWarning: Using a non-tuple sequence for multidimensional indexing is deprecated; use `arr[tuple(seq)]` instead of `arr[seq]`. In the future this will be interpreted as an array index, `arr[np.array(seq)]`, which will result either in an error or a different result.\n",
            "  pred[i, j] /= np.sum(np.abs(similarity[j, :][top_k_items]))\n"
          ]
        },
        {
          "output_type": "stream",
          "name": "stdout",
          "text": [
            "Top-k Item-based CF MSE: 16.374602362110377\n"
          ]
        }
      ]
    },
    {
      "cell_type": "code",
      "source": [
        "# Top-40 neighbors MSE calculation: \n",
        "pred = predict_topk(train, user_similarity, kind='user', k=40)\n",
        "print ('Top-k User-based CF MSE: ' + str(get_mse(pred, test)))\n",
        "\n",
        "pred = predict_topk(train, item_similarity, kind='item', k=40)\n",
        "print ('Top-k Item-based CF MSE: ' + str(get_mse(pred, test)))"
      ],
      "metadata": {
        "colab": {
          "base_uri": "https://localhost:8080/"
        },
        "id": "rbesXEr5qoml",
        "outputId": "bc465221-b3d6-4f73-ffe7-27a8a2df1408"
      },
      "execution_count": 30,
      "outputs": [
        {
          "output_type": "stream",
          "name": "stderr",
          "text": [
            "<ipython-input-25-ab0d01a573e0>:8: FutureWarning: Using a non-tuple sequence for multidimensional indexing is deprecated; use `arr[tuple(seq)]` instead of `arr[seq]`. In the future this will be interpreted as an array index, `arr[np.array(seq)]`, which will result either in an error or a different result.\n",
            "  pred[i, j] = similarity[i, :][top_k_users].dot(ratings[:, j][top_k_users])\n",
            "<ipython-input-25-ab0d01a573e0>:9: FutureWarning: Using a non-tuple sequence for multidimensional indexing is deprecated; use `arr[tuple(seq)]` instead of `arr[seq]`. In the future this will be interpreted as an array index, `arr[np.array(seq)]`, which will result either in an error or a different result.\n",
            "  pred[i, j] /= np.sum(np.abs(similarity[i, :][top_k_users]))\n"
          ]
        },
        {
          "output_type": "stream",
          "name": "stdout",
          "text": [
            "Top-k User-based CF MSE: 16.38649518530183\n"
          ]
        },
        {
          "output_type": "stream",
          "name": "stderr",
          "text": [
            "<ipython-input-25-ab0d01a573e0>:14: FutureWarning: Using a non-tuple sequence for multidimensional indexing is deprecated; use `arr[tuple(seq)]` instead of `arr[seq]`. In the future this will be interpreted as an array index, `arr[np.array(seq)]`, which will result either in an error or a different result.\n",
            "  pred[i, j] = similarity[j, :][top_k_items].dot(ratings[i, :][top_k_items].T)\n",
            "<ipython-input-25-ab0d01a573e0>:15: FutureWarning: Using a non-tuple sequence for multidimensional indexing is deprecated; use `arr[tuple(seq)]` instead of `arr[seq]`. In the future this will be interpreted as an array index, `arr[np.array(seq)]`, which will result either in an error or a different result.\n",
            "  pred[i, j] /= np.sum(np.abs(similarity[j, :][top_k_items]))\n"
          ]
        },
        {
          "output_type": "stream",
          "name": "stdout",
          "text": [
            "Top-k Item-based CF MSE: 16.37460680148631\n"
          ]
        }
      ]
    },
    {
      "cell_type": "code",
      "source": [
        "# Top-60 neighbors MSE calculation: \n",
        "pred = predict_topk(train, user_similarity, kind='user', k=60)\n",
        "print ('Top-k User-based CF MSE: ' + str(get_mse(pred, test)))\n",
        "\n",
        "pred = predict_topk(train, item_similarity, kind='item', k=60)\n",
        "print ('Top-k Item-based CF MSE: ' + str(get_mse(pred, test)))"
      ],
      "metadata": {
        "colab": {
          "base_uri": "https://localhost:8080/"
        },
        "id": "mxAxnfZNvkF4",
        "outputId": "8c91a7d0-446c-47e9-dc72-079c7a6a204a"
      },
      "execution_count": 31,
      "outputs": [
        {
          "output_type": "stream",
          "name": "stderr",
          "text": [
            "<ipython-input-25-ab0d01a573e0>:8: FutureWarning: Using a non-tuple sequence for multidimensional indexing is deprecated; use `arr[tuple(seq)]` instead of `arr[seq]`. In the future this will be interpreted as an array index, `arr[np.array(seq)]`, which will result either in an error or a different result.\n",
            "  pred[i, j] = similarity[i, :][top_k_users].dot(ratings[:, j][top_k_users])\n",
            "<ipython-input-25-ab0d01a573e0>:9: FutureWarning: Using a non-tuple sequence for multidimensional indexing is deprecated; use `arr[tuple(seq)]` instead of `arr[seq]`. In the future this will be interpreted as an array index, `arr[np.array(seq)]`, which will result either in an error or a different result.\n",
            "  pred[i, j] /= np.sum(np.abs(similarity[i, :][top_k_users]))\n"
          ]
        },
        {
          "output_type": "stream",
          "name": "stdout",
          "text": [
            "Top-k User-based CF MSE: 16.385517695330236\n"
          ]
        },
        {
          "output_type": "stream",
          "name": "stderr",
          "text": [
            "<ipython-input-25-ab0d01a573e0>:14: FutureWarning: Using a non-tuple sequence for multidimensional indexing is deprecated; use `arr[tuple(seq)]` instead of `arr[seq]`. In the future this will be interpreted as an array index, `arr[np.array(seq)]`, which will result either in an error or a different result.\n",
            "  pred[i, j] = similarity[j, :][top_k_items].dot(ratings[i, :][top_k_items].T)\n",
            "<ipython-input-25-ab0d01a573e0>:15: FutureWarning: Using a non-tuple sequence for multidimensional indexing is deprecated; use `arr[tuple(seq)]` instead of `arr[seq]`. In the future this will be interpreted as an array index, `arr[np.array(seq)]`, which will result either in an error or a different result.\n",
            "  pred[i, j] /= np.sum(np.abs(similarity[j, :][top_k_items]))\n"
          ]
        },
        {
          "output_type": "stream",
          "name": "stdout",
          "text": [
            "Top-k Item-based CF MSE: 16.374615676985105\n"
          ]
        }
      ]
    },
    {
      "cell_type": "code",
      "source": [
        "# Top-100 neighbors MSE calculation: \n",
        "pred = predict_topk(train, user_similarity, kind='user', k=100)\n",
        "print ('Top-k User-based CF MSE: ' + str(get_mse(pred, test)))\n",
        "\n",
        "pred = predict_topk(train, item_similarity, kind='item', k=100)\n",
        "print ('Top-k Item-based CF MSE: ' + str(get_mse(pred, test)))"
      ],
      "metadata": {
        "colab": {
          "base_uri": "https://localhost:8080/"
        },
        "id": "5R95g4dZ3jtM",
        "outputId": "d841edd6-3788-4fb6-e361-02ce86b9e222"
      },
      "execution_count": 32,
      "outputs": [
        {
          "output_type": "stream",
          "name": "stderr",
          "text": [
            "<ipython-input-25-ab0d01a573e0>:8: FutureWarning: Using a non-tuple sequence for multidimensional indexing is deprecated; use `arr[tuple(seq)]` instead of `arr[seq]`. In the future this will be interpreted as an array index, `arr[np.array(seq)]`, which will result either in an error or a different result.\n",
            "  pred[i, j] = similarity[i, :][top_k_users].dot(ratings[:, j][top_k_users])\n",
            "<ipython-input-25-ab0d01a573e0>:9: FutureWarning: Using a non-tuple sequence for multidimensional indexing is deprecated; use `arr[tuple(seq)]` instead of `arr[seq]`. In the future this will be interpreted as an array index, `arr[np.array(seq)]`, which will result either in an error or a different result.\n",
            "  pred[i, j] /= np.sum(np.abs(similarity[i, :][top_k_users]))\n"
          ]
        },
        {
          "output_type": "stream",
          "name": "stdout",
          "text": [
            "Top-k User-based CF MSE: 16.3854129697592\n"
          ]
        },
        {
          "output_type": "stream",
          "name": "stderr",
          "text": [
            "<ipython-input-25-ab0d01a573e0>:14: FutureWarning: Using a non-tuple sequence for multidimensional indexing is deprecated; use `arr[tuple(seq)]` instead of `arr[seq]`. In the future this will be interpreted as an array index, `arr[np.array(seq)]`, which will result either in an error or a different result.\n",
            "  pred[i, j] = similarity[j, :][top_k_items].dot(ratings[i, :][top_k_items].T)\n",
            "<ipython-input-25-ab0d01a573e0>:15: FutureWarning: Using a non-tuple sequence for multidimensional indexing is deprecated; use `arr[tuple(seq)]` instead of `arr[seq]`. In the future this will be interpreted as an array index, `arr[np.array(seq)]`, which will result either in an error or a different result.\n",
            "  pred[i, j] /= np.sum(np.abs(similarity[j, :][top_k_items]))\n"
          ]
        },
        {
          "output_type": "stream",
          "name": "stdout",
          "text": [
            "Top-k Item-based CF MSE: 16.374633414990793\n"
          ]
        }
      ]
    }
  ],
  "metadata": {
    "colab": {
      "provenance": [],
      "authorship_tag": "ABX9TyM5KrmR3y+z4NbQIspHbQqV",
      "include_colab_link": true
    },
    "kernelspec": {
      "display_name": "Python 3",
      "name": "python3"
    },
    "language_info": {
      "name": "python"
    }
  },
  "nbformat": 4,
  "nbformat_minor": 0
}