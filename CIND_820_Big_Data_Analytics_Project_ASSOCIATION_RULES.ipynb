{
  "nbformat": 4,
  "nbformat_minor": 0,
  "metadata": {
    "colab": {
      "provenance": [],
      "collapsed_sections": [],
      "authorship_tag": "ABX9TyPP4Zj0ggx1gEzAzHTm3hsD",
      "include_colab_link": true
    },
    "kernelspec": {
      "name": "python3",
      "display_name": "Python 3"
    },
    "language_info": {
      "name": "python"
    }
  },
  "cells": [
    {
      "cell_type": "markdown",
      "metadata": {
        "id": "view-in-github",
        "colab_type": "text"
      },
      "source": [
        "<a href=\"https://colab.research.google.com/github/AnnaK8090/CIND-820_Big-Data-Analytics-Project/blob/main/CIND_820_Big_Data_Analytics_Project_ASSOCIATION_RULES.ipynb\" target=\"_parent\"><img src=\"https://colab.research.google.com/assets/colab-badge.svg\" alt=\"Open In Colab\"/></a>"
      ]
    },
    {
      "cell_type": "markdown",
      "source": [
        "\n",
        "\n",
        "Finding association rules between a set of co-purchased items is one of the most commonly used data mining techniques for ecommerce.\n",
        "To find frequent item-sets, an algorithm\n",
        "known as “Apriori” is used. Apriori is the most classic and widely used\n",
        "algorithm from which many variants have been\n",
        "developed [20-23]. For each item in frequent item-sets,\n",
        "we call each other an associate item. \n"
      ],
      "metadata": {
        "id": "3-ykGBkWXb2T"
      }
    },
    {
      "cell_type": "code",
      "execution_count": null,
      "metadata": {
        "id": "3qztHhqOtsRW"
      },
      "outputs": [],
      "source": [
        "import numpy as np \n",
        "import pandas as pd\n",
        "import matplotlib.pyplot as plt"
      ]
    },
    {
      "cell_type": "code",
      "source": [
        "# installing the apyori package\n",
        "!pip install apyori"
      ],
      "metadata": {
        "colab": {
          "base_uri": "https://localhost:8080/"
        },
        "id": "mRT0aR3DteAh",
        "outputId": "4d62980f-adb7-40df-cd0f-ce2b8a8775d5"
      },
      "execution_count": null,
      "outputs": [
        {
          "output_type": "stream",
          "name": "stdout",
          "text": [
            "Looking in indexes: https://pypi.org/simple, https://us-python.pkg.dev/colab-wheels/public/simple/\n",
            "Requirement already satisfied: apyori in /usr/local/lib/python3.7/dist-packages (1.1.2)\n"
          ]
        }
      ]
    },
    {
      "cell_type": "code",
      "source": [
        "from mlxtend.preprocessing import TransactionEncoder\n",
        "from mlxtend.frequent_patterns import apriori\n",
        "from mlxtend.frequent_patterns import association_rules"
      ],
      "metadata": {
        "id": "lqbUwXBcQ4Ol"
      },
      "execution_count": null,
      "outputs": []
    },
    {
      "cell_type": "code",
      "source": [
        "customersDF = pd.read_csv(\"olist_customers_dataset.csv\")\n",
        "geolocationDF = pd.read_csv(\"olist_geolocation_dataset.csv\")\n",
        "order_itemsDF = pd.read_csv(\"olist_order_items_dataset.csv\")\n",
        "order_paymentsDF = pd.read_csv(\"olist_order_payments_dataset.csv\")\n",
        "order_reviewsDF = pd.read_csv(\"olist_order_reviews_dataset.csv\")\n",
        "ordersDF = pd.read_csv(\"olist_orders_dataset.csv\")\n",
        "productsDF = pd.read_csv(\"olist_products_dataset.csv\")\n",
        "sellersDF = pd.read_csv(\"olist_sellers_dataset.csv\")\n",
        "product_category_name_translation = pd.read_csv(\"product_category_name_translation.csv\")"
      ],
      "metadata": {
        "id": "OFLJLpOWuQwl"
      },
      "execution_count": null,
      "outputs": []
    },
    {
      "cell_type": "code",
      "source": [
        "masterDF = ordersDF.copy()\n",
        "masterDF = masterDF.merge(customersDF,on='customer_id')\n",
        "masterDF = masterDF.merge(order_reviewsDF,on='order_id')\n",
        "masterDF = masterDF.merge(order_paymentsDF,on='order_id')\n",
        "masterDF = masterDF.merge(order_itemsDF,on='order_id')\n",
        "masterDF = masterDF.merge(productsDF,on='product_id')\n",
        "masterDF = masterDF.merge(sellersDF,on='seller_id')\n",
        "masterDF = masterDF.merge(product_category_name_translation,on='product_category_name')\n"
      ],
      "metadata": {
        "id": "T-mgGZNP1gZ6"
      },
      "execution_count": null,
      "outputs": []
    },
    {
      "cell_type": "code",
      "source": [
        "masterDF.head()"
      ],
      "metadata": {
        "id": "OlS7A2l40-iz"
      },
      "execution_count": null,
      "outputs": []
    },
    {
      "cell_type": "code",
      "source": [
        "masterDF.shape"
      ],
      "metadata": {
        "colab": {
          "base_uri": "https://localhost:8080/"
        },
        "id": "eTM_cBbg2Tyz",
        "outputId": "68a73514-84d2-4910-cd2b-cadc3013fd49"
      },
      "execution_count": null,
      "outputs": [
        {
          "output_type": "execute_result",
          "data": {
            "text/plain": [
              "(115609, 40)"
            ]
          },
          "metadata": {},
          "execution_count": 11
        }
      ]
    },
    {
      "cell_type": "code",
      "source": [
        "s = masterDF.groupby('order_id').product_category_name_english.nunique()\n",
        "masterDF = masterDF[masterDF['order_id'].isin(s.index[s>1])]\n",
        "masterDF.shape"
      ],
      "metadata": {
        "colab": {
          "base_uri": "https://localhost:8080/"
        },
        "id": "Itki7A9Q2ei1",
        "outputId": "e2289a65-ce4a-47c5-ab33-bebb923d344f"
      },
      "execution_count": null,
      "outputs": [
        {
          "output_type": "execute_result",
          "data": {
            "text/plain": [
              "(1943, 40)"
            ]
          },
          "metadata": {},
          "execution_count": 12
        }
      ]
    },
    {
      "cell_type": "code",
      "source": [
        "masterDF.shape"
      ],
      "metadata": {
        "colab": {
          "base_uri": "https://localhost:8080/"
        },
        "id": "2TyD4cgL2xuQ",
        "outputId": "4948a45a-ec04-4b42-f3fb-fa130e229894"
      },
      "execution_count": null,
      "outputs": [
        {
          "output_type": "execute_result",
          "data": {
            "text/plain": [
              "(1943, 40)"
            ]
          },
          "metadata": {},
          "execution_count": 13
        }
      ]
    },
    {
      "cell_type": "code",
      "source": [
        "masterDF.info()"
      ],
      "metadata": {
        "id": "yymRV_ey49Ik",
        "colab": {
          "base_uri": "https://localhost:8080/"
        },
        "outputId": "ef23aec1-169e-4cce-f380-25b2eef07eea"
      },
      "execution_count": null,
      "outputs": [
        {
          "output_type": "stream",
          "name": "stdout",
          "text": [
            "<class 'pandas.core.frame.DataFrame'>\n",
            "Int64Index: 1943 entries, 53 to 115599\n",
            "Data columns (total 40 columns):\n",
            " #   Column                         Non-Null Count  Dtype  \n",
            "---  ------                         --------------  -----  \n",
            " 0   order_id                       1943 non-null   object \n",
            " 1   customer_id                    1943 non-null   object \n",
            " 2   order_status                   1943 non-null   object \n",
            " 3   order_purchase_timestamp       1943 non-null   object \n",
            " 4   order_approved_at              1943 non-null   object \n",
            " 5   order_delivered_carrier_date   1943 non-null   object \n",
            " 6   order_delivered_customer_date  1937 non-null   object \n",
            " 7   order_estimated_delivery_date  1943 non-null   object \n",
            " 8   customer_unique_id             1943 non-null   object \n",
            " 9   customer_zip_code_prefix       1943 non-null   int64  \n",
            " 10  customer_city                  1943 non-null   object \n",
            " 11  customer_state                 1943 non-null   object \n",
            " 12  review_id                      1943 non-null   object \n",
            " 13  review_score                   1943 non-null   int64  \n",
            " 14  review_comment_title           390 non-null    object \n",
            " 15  review_comment_message         1186 non-null   object \n",
            " 16  review_creation_date           1943 non-null   object \n",
            " 17  review_answer_timestamp        1943 non-null   object \n",
            " 18  payment_sequential             1943 non-null   int64  \n",
            " 19  payment_type                   1943 non-null   object \n",
            " 20  payment_installments           1943 non-null   int64  \n",
            " 21  payment_value                  1943 non-null   float64\n",
            " 22  order_item_id                  1943 non-null   int64  \n",
            " 23  product_id                     1943 non-null   object \n",
            " 24  seller_id                      1943 non-null   object \n",
            " 25  shipping_limit_date            1943 non-null   object \n",
            " 26  price                          1943 non-null   float64\n",
            " 27  freight_value                  1943 non-null   float64\n",
            " 28  product_category_name          1943 non-null   object \n",
            " 29  product_name_lenght            1943 non-null   float64\n",
            " 30  product_description_lenght     1943 non-null   float64\n",
            " 31  product_photos_qty             1943 non-null   float64\n",
            " 32  product_weight_g               1943 non-null   float64\n",
            " 33  product_length_cm              1943 non-null   float64\n",
            " 34  product_height_cm              1943 non-null   float64\n",
            " 35  product_width_cm               1943 non-null   float64\n",
            " 36  seller_zip_code_prefix         1943 non-null   int64  \n",
            " 37  seller_city                    1943 non-null   object \n",
            " 38  seller_state                   1943 non-null   object \n",
            " 39  product_category_name_english  1943 non-null   object \n",
            "dtypes: float64(10), int64(6), object(24)\n",
            "memory usage: 622.4+ KB\n"
          ]
        }
      ]
    },
    {
      "cell_type": "code",
      "source": [
        "masterDF[\"ItemID_NEW_StringType\"] = masterDF[\"product_id\"]"
      ],
      "metadata": {
        "id": "iQRtFu_Lw4GL"
      },
      "execution_count": null,
      "outputs": []
    },
    {
      "cell_type": "code",
      "source": [
        "masterDF[\"ItemID_NEW_StringType\"] =masterDF[\"ItemID_NEW_StringType\"].astype(str)"
      ],
      "metadata": {
        "id": "HKBwzIsOxC6a"
      },
      "execution_count": null,
      "outputs": []
    },
    {
      "cell_type": "code",
      "source": [
        "masterDF['ItemID_Category'] = [''.join(i) for i in zip(masterDF['ItemID_NEW_StringType'], masterDF['product_category_name_english'])]"
      ],
      "metadata": {
        "id": "mn7eGfpbveq-"
      },
      "execution_count": null,
      "outputs": []
    },
    {
      "cell_type": "code",
      "source": [
        "masterDF[\"Quantity\"]=1"
      ],
      "metadata": {
        "id": "zj-Bcn3p1Wqv"
      },
      "execution_count": null,
      "outputs": []
    },
    {
      "cell_type": "code",
      "source": [
        "# Stripping extra spaces in the description\n",
        "masterDF['ItemID_Category'] = masterDF['ItemID_Category'].str.strip()\n",
        "  \n",
        "# Dropping the rows without any invoice number\n",
        "masterDF.dropna(axis = 0, subset =['order_id'], inplace = True)\n",
        "masterDF['order_id'] = masterDF['order_id'].astype('str')\n",
        "  "
      ],
      "metadata": {
        "id": "2B5iiJGl3saY"
      },
      "execution_count": null,
      "outputs": []
    },
    {
      "cell_type": "code",
      "source": [
        "masterDF_groups =masterDF.groupby('product_category_name_english')\n",
        "masterDF_groups.groups    \n"
      ],
      "metadata": {
        "id": "4yTKiers1hsF"
      },
      "execution_count": null,
      "outputs": []
    },
    {
      "cell_type": "code",
      "source": [
        "masterDF_groups.head()"
      ],
      "metadata": {
        "id": "D9unaQZh5sMR"
      },
      "execution_count": null,
      "outputs": []
    },
    {
      "cell_type": "code",
      "source": [
        "masterDF_groups.groups"
      ],
      "metadata": {
        "id": "uTTVkMb453DC"
      },
      "execution_count": null,
      "outputs": []
    },
    {
      "cell_type": "code",
      "source": [
        "#options = [\"bed_bath_table\",\"baby\",\"furniture_decor\",\"pet_shop\",\"sports_leisure\",\"auto\",\"fashion_bags_accessories\"]"
      ],
      "metadata": {
        "id": "s9viFh82eL9y"
      },
      "execution_count": null,
      "outputs": []
    },
    {
      "cell_type": "code",
      "source": [
        "#masterDF = masterDF[masterDF['product_category_name_english'].isin(options)]\n"
      ],
      "metadata": {
        "id": "pavYmQtneed6"
      },
      "execution_count": null,
      "outputs": []
    },
    {
      "cell_type": "code",
      "source": [
        "basket_bed_bath_table = (masterDF\n",
        "          .groupby(['order_id', 'ItemID_Category'])['Quantity']\n",
        "          .sum().unstack().reset_index().fillna(0)\n",
        "          .set_index('order_id'))\n"
      ],
      "metadata": {
        "id": "0HX2mUoP51Qq"
      },
      "execution_count": null,
      "outputs": []
    },
    {
      "cell_type": "code",
      "source": [
        "basket_bed_bath_table.head()"
      ],
      "metadata": {
        "colab": {
          "base_uri": "https://localhost:8080/",
          "height": 331
        },
        "id": "BL5IroCJU8Ir",
        "outputId": "c01eed2f-b664-4de1-e560-a69281897e4b"
      },
      "execution_count": null,
      "outputs": [
        {
          "output_type": "execute_result",
          "data": {
            "text/plain": [
              "ItemID_Category                   0042f1a9a7e0edd1400c6cd0fda065f8health_beauty  \\\n",
              "order_id                                                                          \n",
              "002f98c0f7efd42638ed6100ca699b42                                            0.0   \n",
              "005d9a5423d47281ac463a968b3936fb                                            0.0   \n",
              "014405982914c2cde2796ddcf0b8703d                                            0.0   \n",
              "01b1a7fdae9ad1837d6ab861705a1fa5                                            0.0   \n",
              "01cce1175ac3c4a450e3a0f856d02734                                            0.0   \n",
              "\n",
              "ItemID_Category                   007c63ae4b346920756b5adcad8095dehousewares  \\\n",
              "order_id                                                                       \n",
              "002f98c0f7efd42638ed6100ca699b42                                         0.0   \n",
              "005d9a5423d47281ac463a968b3936fb                                         0.0   \n",
              "014405982914c2cde2796ddcf0b8703d                                         0.0   \n",
              "01b1a7fdae9ad1837d6ab861705a1fa5                                         0.0   \n",
              "01cce1175ac3c4a450e3a0f856d02734                                         0.0   \n",
              "\n",
              "ItemID_Category                   00ba6d766f0b1d7b78a5ce3e1e033263housewares  \\\n",
              "order_id                                                                       \n",
              "002f98c0f7efd42638ed6100ca699b42                                         0.0   \n",
              "005d9a5423d47281ac463a968b3936fb                                         0.0   \n",
              "014405982914c2cde2796ddcf0b8703d                                         0.0   \n",
              "01b1a7fdae9ad1837d6ab861705a1fa5                                         0.0   \n",
              "01cce1175ac3c4a450e3a0f856d02734                                         0.0   \n",
              "\n",
              "ItemID_Category                   011377a7487fef47fc9e73fa5f7322a6baby  \\\n",
              "order_id                                                                 \n",
              "002f98c0f7efd42638ed6100ca699b42                                   0.0   \n",
              "005d9a5423d47281ac463a968b3936fb                                   0.0   \n",
              "014405982914c2cde2796ddcf0b8703d                                   0.0   \n",
              "01b1a7fdae9ad1837d6ab861705a1fa5                                   0.0   \n",
              "01cce1175ac3c4a450e3a0f856d02734                                   0.0   \n",
              "\n",
              "ItemID_Category                   014a8a503291921f7b004a5215bb3c36baby  \\\n",
              "order_id                                                                 \n",
              "002f98c0f7efd42638ed6100ca699b42                                   0.0   \n",
              "005d9a5423d47281ac463a968b3936fb                                   0.0   \n",
              "014405982914c2cde2796ddcf0b8703d                                   0.0   \n",
              "01b1a7fdae9ad1837d6ab861705a1fa5                                   0.0   \n",
              "01cce1175ac3c4a450e3a0f856d02734                                   0.0   \n",
              "\n",
              "ItemID_Category                   01b660ebc1a0c293ccf9b117fa6dd8bbhousewares  \\\n",
              "order_id                                                                       \n",
              "002f98c0f7efd42638ed6100ca699b42                                         0.0   \n",
              "005d9a5423d47281ac463a968b3936fb                                         0.0   \n",
              "014405982914c2cde2796ddcf0b8703d                                         0.0   \n",
              "01b1a7fdae9ad1837d6ab861705a1fa5                                         0.0   \n",
              "01cce1175ac3c4a450e3a0f856d02734                                         0.0   \n",
              "\n",
              "ItemID_Category                   01c2e91674406ebaca6a1bbf7f61c3f0computers_accessories  \\\n",
              "order_id                                                                                  \n",
              "002f98c0f7efd42638ed6100ca699b42                                                0.0       \n",
              "005d9a5423d47281ac463a968b3936fb                                                0.0       \n",
              "014405982914c2cde2796ddcf0b8703d                                                0.0       \n",
              "01b1a7fdae9ad1837d6ab861705a1fa5                                                0.0       \n",
              "01cce1175ac3c4a450e3a0f856d02734                                                0.0       \n",
              "\n",
              "ItemID_Category                   01cf7c4cffff8db0a1cbe612bd2d50a4furniture_decor  \\\n",
              "order_id                                                                            \n",
              "002f98c0f7efd42638ed6100ca699b42                                              0.0   \n",
              "005d9a5423d47281ac463a968b3936fb                                              0.0   \n",
              "014405982914c2cde2796ddcf0b8703d                                              0.0   \n",
              "01b1a7fdae9ad1837d6ab861705a1fa5                                              0.0   \n",
              "01cce1175ac3c4a450e3a0f856d02734                                              0.0   \n",
              "\n",
              "ItemID_Category                   01e20e6604216c8adb31d463214ba00chome_construction  \\\n",
              "order_id                                                                              \n",
              "002f98c0f7efd42638ed6100ca699b42                                                0.0   \n",
              "005d9a5423d47281ac463a968b3936fb                                                0.0   \n",
              "014405982914c2cde2796ddcf0b8703d                                                0.0   \n",
              "01b1a7fdae9ad1837d6ab861705a1fa5                                                0.0   \n",
              "01cce1175ac3c4a450e3a0f856d02734                                                0.0   \n",
              "\n",
              "ItemID_Category                   01fc56750f0d3444c4a1746ecf19dee0sports_leisure  \\\n",
              "order_id                                                                           \n",
              "002f98c0f7efd42638ed6100ca699b42                                             0.0   \n",
              "005d9a5423d47281ac463a968b3936fb                                             0.0   \n",
              "014405982914c2cde2796ddcf0b8703d                                             0.0   \n",
              "01b1a7fdae9ad1837d6ab861705a1fa5                                             0.0   \n",
              "01cce1175ac3c4a450e3a0f856d02734                                             0.0   \n",
              "\n",
              "ItemID_Category                   ...  \\\n",
              "order_id                          ...   \n",
              "002f98c0f7efd42638ed6100ca699b42  ...   \n",
              "005d9a5423d47281ac463a968b3936fb  ...   \n",
              "014405982914c2cde2796ddcf0b8703d  ...   \n",
              "01b1a7fdae9ad1837d6ab861705a1fa5  ...   \n",
              "01cce1175ac3c4a450e3a0f856d02734  ...   \n",
              "\n",
              "ItemID_Category                   fe9c4b2cf9c3adbaf3644880fb72254dfurniture_decor  \\\n",
              "order_id                                                                            \n",
              "002f98c0f7efd42638ed6100ca699b42                                              0.0   \n",
              "005d9a5423d47281ac463a968b3936fb                                              0.0   \n",
              "014405982914c2cde2796ddcf0b8703d                                              0.0   \n",
              "01b1a7fdae9ad1837d6ab861705a1fa5                                              0.0   \n",
              "01cce1175ac3c4a450e3a0f856d02734                                              0.0   \n",
              "\n",
              "ItemID_Category                   fe9dfbe7f974621789683b7b78be2a16health_beauty  \\\n",
              "order_id                                                                          \n",
              "002f98c0f7efd42638ed6100ca699b42                                            0.0   \n",
              "005d9a5423d47281ac463a968b3936fb                                            0.0   \n",
              "014405982914c2cde2796ddcf0b8703d                                            0.0   \n",
              "01b1a7fdae9ad1837d6ab861705a1fa5                                            0.0   \n",
              "01cce1175ac3c4a450e3a0f856d02734                                            0.0   \n",
              "\n",
              "ItemID_Category                   feb4ade62e32b8d74c6f69f635057964furniture_living_room  \\\n",
              "order_id                                                                                  \n",
              "002f98c0f7efd42638ed6100ca699b42                                                0.0       \n",
              "005d9a5423d47281ac463a968b3936fb                                                0.0       \n",
              "014405982914c2cde2796ddcf0b8703d                                                0.0       \n",
              "01b1a7fdae9ad1837d6ab861705a1fa5                                                0.0       \n",
              "01cce1175ac3c4a450e3a0f856d02734                                                0.0       \n",
              "\n",
              "ItemID_Category                   fec2d939a171210847d8f2d102f0dba5garden_tools  \\\n",
              "order_id                                                                         \n",
              "002f98c0f7efd42638ed6100ca699b42                                           0.0   \n",
              "005d9a5423d47281ac463a968b3936fb                                           0.0   \n",
              "014405982914c2cde2796ddcf0b8703d                                           0.0   \n",
              "01b1a7fdae9ad1837d6ab861705a1fa5                                           0.0   \n",
              "01cce1175ac3c4a450e3a0f856d02734                                           0.0   \n",
              "\n",
              "ItemID_Category                   fec3b45dc09b257690a09a742870b149garden_tools  \\\n",
              "order_id                                                                         \n",
              "002f98c0f7efd42638ed6100ca699b42                                           0.0   \n",
              "005d9a5423d47281ac463a968b3936fb                                           0.0   \n",
              "014405982914c2cde2796ddcf0b8703d                                           0.0   \n",
              "01b1a7fdae9ad1837d6ab861705a1fa5                                           0.0   \n",
              "01cce1175ac3c4a450e3a0f856d02734                                           0.0   \n",
              "\n",
              "ItemID_Category                   fef0296e6442db59700c92c692c90e90costruction_tools_garden  \\\n",
              "order_id                                                                                     \n",
              "002f98c0f7efd42638ed6100ca699b42                                                0.0          \n",
              "005d9a5423d47281ac463a968b3936fb                                                0.0          \n",
              "014405982914c2cde2796ddcf0b8703d                                                0.0          \n",
              "01b1a7fdae9ad1837d6ab861705a1fa5                                                0.0          \n",
              "01cce1175ac3c4a450e3a0f856d02734                                                0.0          \n",
              "\n",
              "ItemID_Category                   fef7934cc233ee5b1dc13094d98a1465cool_stuff  \\\n",
              "order_id                                                                       \n",
              "002f98c0f7efd42638ed6100ca699b42                                         0.0   \n",
              "005d9a5423d47281ac463a968b3936fb                                         0.0   \n",
              "014405982914c2cde2796ddcf0b8703d                                         0.0   \n",
              "01b1a7fdae9ad1837d6ab861705a1fa5                                         0.0   \n",
              "01cce1175ac3c4a450e3a0f856d02734                                         0.0   \n",
              "\n",
              "ItemID_Category                   ff7263dfb3cfff5421ada48c3899c313construction_tools_construction  \\\n",
              "order_id                                                                                            \n",
              "002f98c0f7efd42638ed6100ca699b42                                                0.0                 \n",
              "005d9a5423d47281ac463a968b3936fb                                                0.0                 \n",
              "014405982914c2cde2796ddcf0b8703d                                                0.0                 \n",
              "01b1a7fdae9ad1837d6ab861705a1fa5                                                0.0                 \n",
              "01cce1175ac3c4a450e3a0f856d02734                                                0.0                 \n",
              "\n",
              "ItemID_Category                   ff85ff517698c3fe8b200afddda7fb3ahousewares  \\\n",
              "order_id                                                                       \n",
              "002f98c0f7efd42638ed6100ca699b42                                         0.0   \n",
              "005d9a5423d47281ac463a968b3936fb                                         0.0   \n",
              "014405982914c2cde2796ddcf0b8703d                                         0.0   \n",
              "01b1a7fdae9ad1837d6ab861705a1fa5                                         0.0   \n",
              "01cce1175ac3c4a450e3a0f856d02734                                         0.0   \n",
              "\n",
              "ItemID_Category                   ffbc83054b3741a8d67fc59d9cf9d42dhousewares  \n",
              "order_id                                                                      \n",
              "002f98c0f7efd42638ed6100ca699b42                                         0.0  \n",
              "005d9a5423d47281ac463a968b3936fb                                         0.0  \n",
              "014405982914c2cde2796ddcf0b8703d                                         0.0  \n",
              "01b1a7fdae9ad1837d6ab861705a1fa5                                         0.0  \n",
              "01cce1175ac3c4a450e3a0f856d02734                                         0.0  \n",
              "\n",
              "[5 rows x 1295 columns]"
            ],
            "text/html": [
              "\n",
              "  <div id=\"df-16207c5d-c1f9-4b35-b741-1617acc6eb8c\">\n",
              "    <div class=\"colab-df-container\">\n",
              "      <div>\n",
              "<style scoped>\n",
              "    .dataframe tbody tr th:only-of-type {\n",
              "        vertical-align: middle;\n",
              "    }\n",
              "\n",
              "    .dataframe tbody tr th {\n",
              "        vertical-align: top;\n",
              "    }\n",
              "\n",
              "    .dataframe thead th {\n",
              "        text-align: right;\n",
              "    }\n",
              "</style>\n",
              "<table border=\"1\" class=\"dataframe\">\n",
              "  <thead>\n",
              "    <tr style=\"text-align: right;\">\n",
              "      <th>ItemID_Category</th>\n",
              "      <th>0042f1a9a7e0edd1400c6cd0fda065f8health_beauty</th>\n",
              "      <th>007c63ae4b346920756b5adcad8095dehousewares</th>\n",
              "      <th>00ba6d766f0b1d7b78a5ce3e1e033263housewares</th>\n",
              "      <th>011377a7487fef47fc9e73fa5f7322a6baby</th>\n",
              "      <th>014a8a503291921f7b004a5215bb3c36baby</th>\n",
              "      <th>01b660ebc1a0c293ccf9b117fa6dd8bbhousewares</th>\n",
              "      <th>01c2e91674406ebaca6a1bbf7f61c3f0computers_accessories</th>\n",
              "      <th>01cf7c4cffff8db0a1cbe612bd2d50a4furniture_decor</th>\n",
              "      <th>01e20e6604216c8adb31d463214ba00chome_construction</th>\n",
              "      <th>01fc56750f0d3444c4a1746ecf19dee0sports_leisure</th>\n",
              "      <th>...</th>\n",
              "      <th>fe9c4b2cf9c3adbaf3644880fb72254dfurniture_decor</th>\n",
              "      <th>fe9dfbe7f974621789683b7b78be2a16health_beauty</th>\n",
              "      <th>feb4ade62e32b8d74c6f69f635057964furniture_living_room</th>\n",
              "      <th>fec2d939a171210847d8f2d102f0dba5garden_tools</th>\n",
              "      <th>fec3b45dc09b257690a09a742870b149garden_tools</th>\n",
              "      <th>fef0296e6442db59700c92c692c90e90costruction_tools_garden</th>\n",
              "      <th>fef7934cc233ee5b1dc13094d98a1465cool_stuff</th>\n",
              "      <th>ff7263dfb3cfff5421ada48c3899c313construction_tools_construction</th>\n",
              "      <th>ff85ff517698c3fe8b200afddda7fb3ahousewares</th>\n",
              "      <th>ffbc83054b3741a8d67fc59d9cf9d42dhousewares</th>\n",
              "    </tr>\n",
              "    <tr>\n",
              "      <th>order_id</th>\n",
              "      <th></th>\n",
              "      <th></th>\n",
              "      <th></th>\n",
              "      <th></th>\n",
              "      <th></th>\n",
              "      <th></th>\n",
              "      <th></th>\n",
              "      <th></th>\n",
              "      <th></th>\n",
              "      <th></th>\n",
              "      <th></th>\n",
              "      <th></th>\n",
              "      <th></th>\n",
              "      <th></th>\n",
              "      <th></th>\n",
              "      <th></th>\n",
              "      <th></th>\n",
              "      <th></th>\n",
              "      <th></th>\n",
              "      <th></th>\n",
              "      <th></th>\n",
              "    </tr>\n",
              "  </thead>\n",
              "  <tbody>\n",
              "    <tr>\n",
              "      <th>002f98c0f7efd42638ed6100ca699b42</th>\n",
              "      <td>0.0</td>\n",
              "      <td>0.0</td>\n",
              "      <td>0.0</td>\n",
              "      <td>0.0</td>\n",
              "      <td>0.0</td>\n",
              "      <td>0.0</td>\n",
              "      <td>0.0</td>\n",
              "      <td>0.0</td>\n",
              "      <td>0.0</td>\n",
              "      <td>0.0</td>\n",
              "      <td>...</td>\n",
              "      <td>0.0</td>\n",
              "      <td>0.0</td>\n",
              "      <td>0.0</td>\n",
              "      <td>0.0</td>\n",
              "      <td>0.0</td>\n",
              "      <td>0.0</td>\n",
              "      <td>0.0</td>\n",
              "      <td>0.0</td>\n",
              "      <td>0.0</td>\n",
              "      <td>0.0</td>\n",
              "    </tr>\n",
              "    <tr>\n",
              "      <th>005d9a5423d47281ac463a968b3936fb</th>\n",
              "      <td>0.0</td>\n",
              "      <td>0.0</td>\n",
              "      <td>0.0</td>\n",
              "      <td>0.0</td>\n",
              "      <td>0.0</td>\n",
              "      <td>0.0</td>\n",
              "      <td>0.0</td>\n",
              "      <td>0.0</td>\n",
              "      <td>0.0</td>\n",
              "      <td>0.0</td>\n",
              "      <td>...</td>\n",
              "      <td>0.0</td>\n",
              "      <td>0.0</td>\n",
              "      <td>0.0</td>\n",
              "      <td>0.0</td>\n",
              "      <td>0.0</td>\n",
              "      <td>0.0</td>\n",
              "      <td>0.0</td>\n",
              "      <td>0.0</td>\n",
              "      <td>0.0</td>\n",
              "      <td>0.0</td>\n",
              "    </tr>\n",
              "    <tr>\n",
              "      <th>014405982914c2cde2796ddcf0b8703d</th>\n",
              "      <td>0.0</td>\n",
              "      <td>0.0</td>\n",
              "      <td>0.0</td>\n",
              "      <td>0.0</td>\n",
              "      <td>0.0</td>\n",
              "      <td>0.0</td>\n",
              "      <td>0.0</td>\n",
              "      <td>0.0</td>\n",
              "      <td>0.0</td>\n",
              "      <td>0.0</td>\n",
              "      <td>...</td>\n",
              "      <td>0.0</td>\n",
              "      <td>0.0</td>\n",
              "      <td>0.0</td>\n",
              "      <td>0.0</td>\n",
              "      <td>0.0</td>\n",
              "      <td>0.0</td>\n",
              "      <td>0.0</td>\n",
              "      <td>0.0</td>\n",
              "      <td>0.0</td>\n",
              "      <td>0.0</td>\n",
              "    </tr>\n",
              "    <tr>\n",
              "      <th>01b1a7fdae9ad1837d6ab861705a1fa5</th>\n",
              "      <td>0.0</td>\n",
              "      <td>0.0</td>\n",
              "      <td>0.0</td>\n",
              "      <td>0.0</td>\n",
              "      <td>0.0</td>\n",
              "      <td>0.0</td>\n",
              "      <td>0.0</td>\n",
              "      <td>0.0</td>\n",
              "      <td>0.0</td>\n",
              "      <td>0.0</td>\n",
              "      <td>...</td>\n",
              "      <td>0.0</td>\n",
              "      <td>0.0</td>\n",
              "      <td>0.0</td>\n",
              "      <td>0.0</td>\n",
              "      <td>0.0</td>\n",
              "      <td>0.0</td>\n",
              "      <td>0.0</td>\n",
              "      <td>0.0</td>\n",
              "      <td>0.0</td>\n",
              "      <td>0.0</td>\n",
              "    </tr>\n",
              "    <tr>\n",
              "      <th>01cce1175ac3c4a450e3a0f856d02734</th>\n",
              "      <td>0.0</td>\n",
              "      <td>0.0</td>\n",
              "      <td>0.0</td>\n",
              "      <td>0.0</td>\n",
              "      <td>0.0</td>\n",
              "      <td>0.0</td>\n",
              "      <td>0.0</td>\n",
              "      <td>0.0</td>\n",
              "      <td>0.0</td>\n",
              "      <td>0.0</td>\n",
              "      <td>...</td>\n",
              "      <td>0.0</td>\n",
              "      <td>0.0</td>\n",
              "      <td>0.0</td>\n",
              "      <td>0.0</td>\n",
              "      <td>0.0</td>\n",
              "      <td>0.0</td>\n",
              "      <td>0.0</td>\n",
              "      <td>0.0</td>\n",
              "      <td>0.0</td>\n",
              "      <td>0.0</td>\n",
              "    </tr>\n",
              "  </tbody>\n",
              "</table>\n",
              "<p>5 rows × 1295 columns</p>\n",
              "</div>\n",
              "      <button class=\"colab-df-convert\" onclick=\"convertToInteractive('df-16207c5d-c1f9-4b35-b741-1617acc6eb8c')\"\n",
              "              title=\"Convert this dataframe to an interactive table.\"\n",
              "              style=\"display:none;\">\n",
              "        \n",
              "  <svg xmlns=\"http://www.w3.org/2000/svg\" height=\"24px\"viewBox=\"0 0 24 24\"\n",
              "       width=\"24px\">\n",
              "    <path d=\"M0 0h24v24H0V0z\" fill=\"none\"/>\n",
              "    <path d=\"M18.56 5.44l.94 2.06.94-2.06 2.06-.94-2.06-.94-.94-2.06-.94 2.06-2.06.94zm-11 1L8.5 8.5l.94-2.06 2.06-.94-2.06-.94L8.5 2.5l-.94 2.06-2.06.94zm10 10l.94 2.06.94-2.06 2.06-.94-2.06-.94-.94-2.06-.94 2.06-2.06.94z\"/><path d=\"M17.41 7.96l-1.37-1.37c-.4-.4-.92-.59-1.43-.59-.52 0-1.04.2-1.43.59L10.3 9.45l-7.72 7.72c-.78.78-.78 2.05 0 2.83L4 21.41c.39.39.9.59 1.41.59.51 0 1.02-.2 1.41-.59l7.78-7.78 2.81-2.81c.8-.78.8-2.07 0-2.86zM5.41 20L4 18.59l7.72-7.72 1.47 1.35L5.41 20z\"/>\n",
              "  </svg>\n",
              "      </button>\n",
              "      \n",
              "  <style>\n",
              "    .colab-df-container {\n",
              "      display:flex;\n",
              "      flex-wrap:wrap;\n",
              "      gap: 12px;\n",
              "    }\n",
              "\n",
              "    .colab-df-convert {\n",
              "      background-color: #E8F0FE;\n",
              "      border: none;\n",
              "      border-radius: 50%;\n",
              "      cursor: pointer;\n",
              "      display: none;\n",
              "      fill: #1967D2;\n",
              "      height: 32px;\n",
              "      padding: 0 0 0 0;\n",
              "      width: 32px;\n",
              "    }\n",
              "\n",
              "    .colab-df-convert:hover {\n",
              "      background-color: #E2EBFA;\n",
              "      box-shadow: 0px 1px 2px rgba(60, 64, 67, 0.3), 0px 1px 3px 1px rgba(60, 64, 67, 0.15);\n",
              "      fill: #174EA6;\n",
              "    }\n",
              "\n",
              "    [theme=dark] .colab-df-convert {\n",
              "      background-color: #3B4455;\n",
              "      fill: #D2E3FC;\n",
              "    }\n",
              "\n",
              "    [theme=dark] .colab-df-convert:hover {\n",
              "      background-color: #434B5C;\n",
              "      box-shadow: 0px 1px 3px 1px rgba(0, 0, 0, 0.15);\n",
              "      filter: drop-shadow(0px 1px 2px rgba(0, 0, 0, 0.3));\n",
              "      fill: #FFFFFF;\n",
              "    }\n",
              "  </style>\n",
              "\n",
              "      <script>\n",
              "        const buttonEl =\n",
              "          document.querySelector('#df-16207c5d-c1f9-4b35-b741-1617acc6eb8c button.colab-df-convert');\n",
              "        buttonEl.style.display =\n",
              "          google.colab.kernel.accessAllowed ? 'block' : 'none';\n",
              "\n",
              "        async function convertToInteractive(key) {\n",
              "          const element = document.querySelector('#df-16207c5d-c1f9-4b35-b741-1617acc6eb8c');\n",
              "          const dataTable =\n",
              "            await google.colab.kernel.invokeFunction('convertToInteractive',\n",
              "                                                     [key], {});\n",
              "          if (!dataTable) return;\n",
              "\n",
              "          const docLinkHtml = 'Like what you see? Visit the ' +\n",
              "            '<a target=\"_blank\" href=https://colab.research.google.com/notebooks/data_table.ipynb>data table notebook</a>'\n",
              "            + ' to learn more about interactive tables.';\n",
              "          element.innerHTML = '';\n",
              "          dataTable['output_type'] = 'display_data';\n",
              "          await google.colab.output.renderOutput(dataTable, element);\n",
              "          const docLink = document.createElement('div');\n",
              "          docLink.innerHTML = docLinkHtml;\n",
              "          element.appendChild(docLink);\n",
              "        }\n",
              "      </script>\n",
              "    </div>\n",
              "  </div>\n",
              "  "
            ]
          },
          "metadata": {},
          "execution_count": 26
        }
      ]
    },
    {
      "cell_type": "code",
      "source": [
        "# Hot encoding to make the data suitable for Apriori library\n",
        "def hot_encode(x):\n",
        "    if(x<= 0):\n",
        "        return 0\n",
        "    if(x>= 1):\n",
        "        return 1\n",
        "  \n",
        "# Encoding the datasets\n",
        "masterDF_encoded = basket_bed_bath_table.applymap(hot_encode)\n",
        "basket_bed_bath_table = masterDF_encoded"
      ],
      "metadata": {
        "id": "kfWh_kyL6-D8"
      },
      "execution_count": null,
      "outputs": []
    },
    {
      "cell_type": "code",
      "source": [
        "# Building the model\n",
        "frq_items = apriori(basket_bed_bath_table, min_support = 0.001, use_colnames = True)\n",
        "  \n",
        "# Collecting the inferred rules in a dataframe\n",
        "rules = association_rules(frq_items, metric =\"lift\", min_threshold = 1)\n",
        "rules = rules.sort_values(['confidence', 'lift'], ascending =[False, False])\n",
        "print(rules.head())"
      ],
      "metadata": {
        "colab": {
          "base_uri": "https://localhost:8080/"
        },
        "id": "VKVSOFUzQTux",
        "outputId": "bc996bb9-4725-460b-f093-1a841aca4626"
      },
      "execution_count": null,
      "outputs": [
        {
          "output_type": "stream",
          "name": "stdout",
          "text": [
            "                                         antecedents  \\\n",
            "0    (0042f1a9a7e0edd1400c6cd0fda065f8health_beauty)   \n",
            "1        (3e45fc327c9740f1ae03383a8e201968perfumery)   \n",
            "2       (007c63ae4b346920756b5adcad8095dehousewares)   \n",
            "3  (38add59349dc5b9c3effc6b93925cb97furniture_decor)   \n",
            "4     (b931645cdc2d9868f01544e8db63f5abgarden_tools)   \n",
            "\n",
            "                                         consequents  antecedent support  \\\n",
            "0        (3e45fc327c9740f1ae03383a8e201968perfumery)            0.001385   \n",
            "1    (0042f1a9a7e0edd1400c6cd0fda065f8health_beauty)            0.001385   \n",
            "2  (38add59349dc5b9c3effc6b93925cb97furniture_decor)            0.001385   \n",
            "3       (007c63ae4b346920756b5adcad8095dehousewares)            0.001385   \n",
            "4       (00ba6d766f0b1d7b78a5ce3e1e033263housewares)            0.001385   \n",
            "\n",
            "   consequent support   support  confidence   lift  leverage  conviction  \n",
            "0            0.001385  0.001385         1.0  722.0  0.001383         inf  \n",
            "1            0.001385  0.001385         1.0  722.0  0.001383         inf  \n",
            "2            0.001385  0.001385         1.0  722.0  0.001383         inf  \n",
            "3            0.001385  0.001385         1.0  722.0  0.001383         inf  \n",
            "4            0.001385  0.001385         1.0  722.0  0.001383         inf  \n"
          ]
        }
      ]
    },
    {
      "cell_type": "code",
      "source": [
        "import os  "
      ],
      "metadata": {
        "id": "3V9zeaxFvlnq"
      },
      "execution_count": null,
      "outputs": []
    },
    {
      "cell_type": "code",
      "source": [
        "os.makedirs('folder/subfolder', exist_ok=True)  \n",
        "rules.to_csv('folder/subfolder/out.csv')  "
      ],
      "metadata": {
        "id": "kgJSVaN8vm6x"
      },
      "execution_count": null,
      "outputs": []
    }
  ]
}