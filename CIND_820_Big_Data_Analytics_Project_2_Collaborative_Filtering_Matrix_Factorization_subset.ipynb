{
  "cells": [
    {
      "cell_type": "markdown",
      "metadata": {
        "id": "view-in-github",
        "colab_type": "text"
      },
      "source": [
        "<a href=\"https://colab.research.google.com/github/AnnaK8090/CIND-820_Big-Data-Analytics-Project/blob/main/CIND_820_Big_Data_Analytics_Project_2_Collaborative_Filtering_Matrix_Factorization_subset.ipynb\" target=\"_parent\"><img src=\"https://colab.research.google.com/assets/colab-badge.svg\" alt=\"Open In Colab\"/></a>"
      ]
    },
    {
      "cell_type": "code",
      "source": [],
      "metadata": {
        "id": "IS2JCk5SHxfW"
      },
      "execution_count": null,
      "outputs": []
    },
    {
      "cell_type": "markdown",
      "source": [
        "**Matrix factorization algorythm:**\n",
        "\n",
        "1. Initialize 2 random matrices P and Q with dimensions M by P and P by N such that when multiplied, their dimension matches the original matrix R (that has dimensions M by N).\n",
        "2. Multiply P by Q to achieve an estimate for R.\n",
        "\n",
        "3. Subtract R real values from those in estimated R matrix (**loss function**) to evaluate how far off the estimate is from the real matrix.\n",
        "\n",
        "3. Use **gradient descent** formulas to adjust each of the values in P and Q in the right direction.\n",
        "\n",
        "4. Repeat steps 2 to 4 repeatedly until the error has reached a reasonable value.\n",
        "\n",
        "5. By multiplying P by Q, we now have an estimate for R that not only closely matches the known values of R, but also provides an estimate for the unknown values.\n",
        "\n"
      ],
      "metadata": {
        "id": "IdvwKtpRHy6O"
      }
    },
    {
      "cell_type": "code",
      "execution_count": 1,
      "metadata": {
        "id": "3qztHhqOtsRW"
      },
      "outputs": [],
      "source": [
        "# 1. Importing libraries:\n",
        "import numpy as np \n",
        "import pandas as pd      "
      ]
    },
    {
      "cell_type": "code",
      "source": [
        "# 2. Loading csv file and saving it into a dataframe:\n",
        "masterDF = pd.read_csv('MasterDF.csv', on_bad_lines='skip')"
      ],
      "metadata": {
        "id": "Oyw0QZsE49Nz"
      },
      "execution_count": 16,
      "outputs": []
    },
    {
      "cell_type": "code",
      "source": [
        "masterDF.shape"
      ],
      "metadata": {
        "colab": {
          "base_uri": "https://localhost:8080/"
        },
        "id": "7YuYYSMiAZuI",
        "outputId": "41472d1b-3f49-4276-f940-0fb871b08d0f"
      },
      "execution_count": 17,
      "outputs": [
        {
          "output_type": "execute_result",
          "data": {
            "text/plain": [
              "(113210, 40)"
            ]
          },
          "metadata": {},
          "execution_count": 17
        }
      ]
    },
    {
      "cell_type": "code",
      "execution_count": 18,
      "metadata": {
        "id": "D1RGwfuXUbI9",
        "colab": {
          "base_uri": "https://localhost:8080/"
        },
        "outputId": "d02fbe85-a033-407a-c2ad-db1bd48e053c"
      },
      "outputs": [
        {
          "output_type": "execute_result",
          "data": {
            "text/plain": [
              "(98091, 5)"
            ]
          },
          "metadata": {},
          "execution_count": 18
        }
      ],
      "source": [
        "# 3. Since order_ID (~ transaction id) might have more than 1 review it makes sense to aggregate dataframe by order_id and choose max review score:\n",
        "masterDF_grouped = masterDF.groupby(['order_id','customer_unique_id','product_id','product_category_name_english'])['review_score'].max()\n",
        "masterDF_grouped = masterDF_grouped.reset_index()\n",
        "masterDF_grouped.shape"
      ]
    },
    {
      "cell_type": "code",
      "source": [
        "masterDF_grouped.to_csv ('MasterDF_grouped.csv', index = None, header=True)"
      ],
      "metadata": {
        "id": "eTEYYaxvAGp5"
      },
      "execution_count": 19,
      "outputs": []
    },
    {
      "cell_type": "code",
      "source": [
        "masterDF_grouped.head()"
      ],
      "metadata": {
        "colab": {
          "base_uri": "https://localhost:8080/",
          "height": 206
        },
        "id": "gEMnfd_-vJ6l",
        "outputId": "c2fe040d-e95a-44be-a28d-fb100cff6aca"
      },
      "execution_count": 20,
      "outputs": [
        {
          "output_type": "execute_result",
          "data": {
            "text/plain": [
              "                           order_id                customer_unique_id  \\\n",
              "0  00010242fe8c5a6d1ba2dd792cb16214  871766c5855e863f6eccc05f988b23cb   \n",
              "1  00018f77f2f0320c557190d7a144bdd3  eb28e67c4c0b83846050ddfb8a35d051   \n",
              "2  000229ec398224ef6ca0657da4fc703e  3818d81c6709e39d06b2738a8d3a2474   \n",
              "3  00024acbcdf0a6daa1e931b038114c75  af861d436cfc08b2c2ddefd0ba074622   \n",
              "4  00042b26cf59d7ce69dfabb4e55b4fd9  64b576fb70d441e8f1b2d7d446e483c5   \n",
              "\n",
              "                         product_id product_category_name_english  \\\n",
              "0  4244733e06e7ecb4970a6e2683c13e61                    cool_stuff   \n",
              "1  e5f2d52b802189ee658865ca93d83a8f                      pet_shop   \n",
              "2  c777355d18b72b67abbeef9df44fd0fd               furniture_decor   \n",
              "3  7634da152a4610f1595efa32f14722fc                     perfumery   \n",
              "4  ac6c3623068f30de03045865e4e10089                  garden_tools   \n",
              "\n",
              "   review_score  \n",
              "0             5  \n",
              "1             4  \n",
              "2             5  \n",
              "3             4  \n",
              "4             5  "
            ],
            "text/html": [
              "\n",
              "  <div id=\"df-faec722c-0fcd-4fe4-bba3-4066eb7a3af7\">\n",
              "    <div class=\"colab-df-container\">\n",
              "      <div>\n",
              "<style scoped>\n",
              "    .dataframe tbody tr th:only-of-type {\n",
              "        vertical-align: middle;\n",
              "    }\n",
              "\n",
              "    .dataframe tbody tr th {\n",
              "        vertical-align: top;\n",
              "    }\n",
              "\n",
              "    .dataframe thead th {\n",
              "        text-align: right;\n",
              "    }\n",
              "</style>\n",
              "<table border=\"1\" class=\"dataframe\">\n",
              "  <thead>\n",
              "    <tr style=\"text-align: right;\">\n",
              "      <th></th>\n",
              "      <th>order_id</th>\n",
              "      <th>customer_unique_id</th>\n",
              "      <th>product_id</th>\n",
              "      <th>product_category_name_english</th>\n",
              "      <th>review_score</th>\n",
              "    </tr>\n",
              "  </thead>\n",
              "  <tbody>\n",
              "    <tr>\n",
              "      <th>0</th>\n",
              "      <td>00010242fe8c5a6d1ba2dd792cb16214</td>\n",
              "      <td>871766c5855e863f6eccc05f988b23cb</td>\n",
              "      <td>4244733e06e7ecb4970a6e2683c13e61</td>\n",
              "      <td>cool_stuff</td>\n",
              "      <td>5</td>\n",
              "    </tr>\n",
              "    <tr>\n",
              "      <th>1</th>\n",
              "      <td>00018f77f2f0320c557190d7a144bdd3</td>\n",
              "      <td>eb28e67c4c0b83846050ddfb8a35d051</td>\n",
              "      <td>e5f2d52b802189ee658865ca93d83a8f</td>\n",
              "      <td>pet_shop</td>\n",
              "      <td>4</td>\n",
              "    </tr>\n",
              "    <tr>\n",
              "      <th>2</th>\n",
              "      <td>000229ec398224ef6ca0657da4fc703e</td>\n",
              "      <td>3818d81c6709e39d06b2738a8d3a2474</td>\n",
              "      <td>c777355d18b72b67abbeef9df44fd0fd</td>\n",
              "      <td>furniture_decor</td>\n",
              "      <td>5</td>\n",
              "    </tr>\n",
              "    <tr>\n",
              "      <th>3</th>\n",
              "      <td>00024acbcdf0a6daa1e931b038114c75</td>\n",
              "      <td>af861d436cfc08b2c2ddefd0ba074622</td>\n",
              "      <td>7634da152a4610f1595efa32f14722fc</td>\n",
              "      <td>perfumery</td>\n",
              "      <td>4</td>\n",
              "    </tr>\n",
              "    <tr>\n",
              "      <th>4</th>\n",
              "      <td>00042b26cf59d7ce69dfabb4e55b4fd9</td>\n",
              "      <td>64b576fb70d441e8f1b2d7d446e483c5</td>\n",
              "      <td>ac6c3623068f30de03045865e4e10089</td>\n",
              "      <td>garden_tools</td>\n",
              "      <td>5</td>\n",
              "    </tr>\n",
              "  </tbody>\n",
              "</table>\n",
              "</div>\n",
              "      <button class=\"colab-df-convert\" onclick=\"convertToInteractive('df-faec722c-0fcd-4fe4-bba3-4066eb7a3af7')\"\n",
              "              title=\"Convert this dataframe to an interactive table.\"\n",
              "              style=\"display:none;\">\n",
              "        \n",
              "  <svg xmlns=\"http://www.w3.org/2000/svg\" height=\"24px\"viewBox=\"0 0 24 24\"\n",
              "       width=\"24px\">\n",
              "    <path d=\"M0 0h24v24H0V0z\" fill=\"none\"/>\n",
              "    <path d=\"M18.56 5.44l.94 2.06.94-2.06 2.06-.94-2.06-.94-.94-2.06-.94 2.06-2.06.94zm-11 1L8.5 8.5l.94-2.06 2.06-.94-2.06-.94L8.5 2.5l-.94 2.06-2.06.94zm10 10l.94 2.06.94-2.06 2.06-.94-2.06-.94-.94-2.06-.94 2.06-2.06.94z\"/><path d=\"M17.41 7.96l-1.37-1.37c-.4-.4-.92-.59-1.43-.59-.52 0-1.04.2-1.43.59L10.3 9.45l-7.72 7.72c-.78.78-.78 2.05 0 2.83L4 21.41c.39.39.9.59 1.41.59.51 0 1.02-.2 1.41-.59l7.78-7.78 2.81-2.81c.8-.78.8-2.07 0-2.86zM5.41 20L4 18.59l7.72-7.72 1.47 1.35L5.41 20z\"/>\n",
              "  </svg>\n",
              "      </button>\n",
              "      \n",
              "  <style>\n",
              "    .colab-df-container {\n",
              "      display:flex;\n",
              "      flex-wrap:wrap;\n",
              "      gap: 12px;\n",
              "    }\n",
              "\n",
              "    .colab-df-convert {\n",
              "      background-color: #E8F0FE;\n",
              "      border: none;\n",
              "      border-radius: 50%;\n",
              "      cursor: pointer;\n",
              "      display: none;\n",
              "      fill: #1967D2;\n",
              "      height: 32px;\n",
              "      padding: 0 0 0 0;\n",
              "      width: 32px;\n",
              "    }\n",
              "\n",
              "    .colab-df-convert:hover {\n",
              "      background-color: #E2EBFA;\n",
              "      box-shadow: 0px 1px 2px rgba(60, 64, 67, 0.3), 0px 1px 3px 1px rgba(60, 64, 67, 0.15);\n",
              "      fill: #174EA6;\n",
              "    }\n",
              "\n",
              "    [theme=dark] .colab-df-convert {\n",
              "      background-color: #3B4455;\n",
              "      fill: #D2E3FC;\n",
              "    }\n",
              "\n",
              "    [theme=dark] .colab-df-convert:hover {\n",
              "      background-color: #434B5C;\n",
              "      box-shadow: 0px 1px 3px 1px rgba(0, 0, 0, 0.15);\n",
              "      filter: drop-shadow(0px 1px 2px rgba(0, 0, 0, 0.3));\n",
              "      fill: #FFFFFF;\n",
              "    }\n",
              "  </style>\n",
              "\n",
              "      <script>\n",
              "        const buttonEl =\n",
              "          document.querySelector('#df-faec722c-0fcd-4fe4-bba3-4066eb7a3af7 button.colab-df-convert');\n",
              "        buttonEl.style.display =\n",
              "          google.colab.kernel.accessAllowed ? 'block' : 'none';\n",
              "\n",
              "        async function convertToInteractive(key) {\n",
              "          const element = document.querySelector('#df-faec722c-0fcd-4fe4-bba3-4066eb7a3af7');\n",
              "          const dataTable =\n",
              "            await google.colab.kernel.invokeFunction('convertToInteractive',\n",
              "                                                     [key], {});\n",
              "          if (!dataTable) return;\n",
              "\n",
              "          const docLinkHtml = 'Like what you see? Visit the ' +\n",
              "            '<a target=\"_blank\" href=https://colab.research.google.com/notebooks/data_table.ipynb>data table notebook</a>'\n",
              "            + ' to learn more about interactive tables.';\n",
              "          element.innerHTML = '';\n",
              "          dataTable['output_type'] = 'display_data';\n",
              "          await google.colab.output.renderOutput(dataTable, element);\n",
              "          const docLink = document.createElement('div');\n",
              "          docLink.innerHTML = docLinkHtml;\n",
              "          element.appendChild(docLink);\n",
              "        }\n",
              "      </script>\n",
              "    </div>\n",
              "  </div>\n",
              "  "
            ]
          },
          "metadata": {},
          "execution_count": 20
        }
      ]
    },
    {
      "cell_type": "code",
      "source": [
        "#4. To be able to validate the results reducing the number of order_id (~transactions) for only those customers that bought more than 2 products (3 or more):\n",
        "\n",
        "# firstly we count products per customer (in a separate dataframe):\n",
        "ProductsPerCustomer = masterDF_grouped.groupby(['customer_unique_id'])['product_id'].agg('count').reset_index()\n",
        "\n",
        "#secondly we filter the dataframe by condition >2:\n",
        "ProductsGreater2PerCustomer = ProductsPerCustomer.loc[ProductsPerCustomer['product_id'] >2]\n",
        "\n",
        "#thirdly we filter the initial dataframe - only those customers that bought >2 products will remain: \n",
        "result = masterDF_grouped[(masterDF_grouped.customer_unique_id.isin(ProductsGreater2PerCustomer.customer_unique_id))]\n",
        "result.head()"
      ],
      "metadata": {
        "colab": {
          "base_uri": "https://localhost:8080/",
          "height": 206
        },
        "id": "-KcBRexTBiqm",
        "outputId": "581375f9-da9f-4690-f16f-d97bcfcc08ee"
      },
      "execution_count": 51,
      "outputs": [
        {
          "output_type": "execute_result",
          "data": {
            "text/plain": [
              "                             order_id                customer_unique_id  \\\n",
              "128  005d9a5423d47281ac463a968b3936fb  6204c4e582a95b6a350adf6988623bfb   \n",
              "129  005d9a5423d47281ac463a968b3936fb  6204c4e582a95b6a350adf6988623bfb   \n",
              "198  0095790a64527ec83aeaaf99023c050e  35ecdf6858edc6427223b64804cf028e   \n",
              "219  00a250dbdb3153cc6ecf4d3f07ef6a17  8004f80e361a5ee23aadb7418a685fc2   \n",
              "228  00a9536682ecb394a3794c1608200803  c5f6047fb345ffd234cf5b26268988be   \n",
              "\n",
              "                           product_id product_category_name_english  \\\n",
              "128  4c3ae5db49258df0784827bdacf3b396                          baby   \n",
              "129  fb7a100ec8c7b34f60cec22b1a9a10e0                          toys   \n",
              "198  e8c6039a25765995ac7c1ec2cbef5765                 watches_gifts   \n",
              "219  ee0c1cf2fbeae95205b4aa506f1469f0                     perfumery   \n",
              "228  24a014458ccc6e989b4fcef5fa71da58                bed_bath_table   \n",
              "\n",
              "     review_score  \n",
              "128             1  \n",
              "129             1  \n",
              "198             5  \n",
              "219             2  \n",
              "228             3  "
            ],
            "text/html": [
              "\n",
              "  <div id=\"df-ad36fe28-9657-4c78-ae00-b0f4c26884ee\">\n",
              "    <div class=\"colab-df-container\">\n",
              "      <div>\n",
              "<style scoped>\n",
              "    .dataframe tbody tr th:only-of-type {\n",
              "        vertical-align: middle;\n",
              "    }\n",
              "\n",
              "    .dataframe tbody tr th {\n",
              "        vertical-align: top;\n",
              "    }\n",
              "\n",
              "    .dataframe thead th {\n",
              "        text-align: right;\n",
              "    }\n",
              "</style>\n",
              "<table border=\"1\" class=\"dataframe\">\n",
              "  <thead>\n",
              "    <tr style=\"text-align: right;\">\n",
              "      <th></th>\n",
              "      <th>order_id</th>\n",
              "      <th>customer_unique_id</th>\n",
              "      <th>product_id</th>\n",
              "      <th>product_category_name_english</th>\n",
              "      <th>review_score</th>\n",
              "    </tr>\n",
              "  </thead>\n",
              "  <tbody>\n",
              "    <tr>\n",
              "      <th>128</th>\n",
              "      <td>005d9a5423d47281ac463a968b3936fb</td>\n",
              "      <td>6204c4e582a95b6a350adf6988623bfb</td>\n",
              "      <td>4c3ae5db49258df0784827bdacf3b396</td>\n",
              "      <td>baby</td>\n",
              "      <td>1</td>\n",
              "    </tr>\n",
              "    <tr>\n",
              "      <th>129</th>\n",
              "      <td>005d9a5423d47281ac463a968b3936fb</td>\n",
              "      <td>6204c4e582a95b6a350adf6988623bfb</td>\n",
              "      <td>fb7a100ec8c7b34f60cec22b1a9a10e0</td>\n",
              "      <td>toys</td>\n",
              "      <td>1</td>\n",
              "    </tr>\n",
              "    <tr>\n",
              "      <th>198</th>\n",
              "      <td>0095790a64527ec83aeaaf99023c050e</td>\n",
              "      <td>35ecdf6858edc6427223b64804cf028e</td>\n",
              "      <td>e8c6039a25765995ac7c1ec2cbef5765</td>\n",
              "      <td>watches_gifts</td>\n",
              "      <td>5</td>\n",
              "    </tr>\n",
              "    <tr>\n",
              "      <th>219</th>\n",
              "      <td>00a250dbdb3153cc6ecf4d3f07ef6a17</td>\n",
              "      <td>8004f80e361a5ee23aadb7418a685fc2</td>\n",
              "      <td>ee0c1cf2fbeae95205b4aa506f1469f0</td>\n",
              "      <td>perfumery</td>\n",
              "      <td>2</td>\n",
              "    </tr>\n",
              "    <tr>\n",
              "      <th>228</th>\n",
              "      <td>00a9536682ecb394a3794c1608200803</td>\n",
              "      <td>c5f6047fb345ffd234cf5b26268988be</td>\n",
              "      <td>24a014458ccc6e989b4fcef5fa71da58</td>\n",
              "      <td>bed_bath_table</td>\n",
              "      <td>3</td>\n",
              "    </tr>\n",
              "  </tbody>\n",
              "</table>\n",
              "</div>\n",
              "      <button class=\"colab-df-convert\" onclick=\"convertToInteractive('df-ad36fe28-9657-4c78-ae00-b0f4c26884ee')\"\n",
              "              title=\"Convert this dataframe to an interactive table.\"\n",
              "              style=\"display:none;\">\n",
              "        \n",
              "  <svg xmlns=\"http://www.w3.org/2000/svg\" height=\"24px\"viewBox=\"0 0 24 24\"\n",
              "       width=\"24px\">\n",
              "    <path d=\"M0 0h24v24H0V0z\" fill=\"none\"/>\n",
              "    <path d=\"M18.56 5.44l.94 2.06.94-2.06 2.06-.94-2.06-.94-.94-2.06-.94 2.06-2.06.94zm-11 1L8.5 8.5l.94-2.06 2.06-.94-2.06-.94L8.5 2.5l-.94 2.06-2.06.94zm10 10l.94 2.06.94-2.06 2.06-.94-2.06-.94-.94-2.06-.94 2.06-2.06.94z\"/><path d=\"M17.41 7.96l-1.37-1.37c-.4-.4-.92-.59-1.43-.59-.52 0-1.04.2-1.43.59L10.3 9.45l-7.72 7.72c-.78.78-.78 2.05 0 2.83L4 21.41c.39.39.9.59 1.41.59.51 0 1.02-.2 1.41-.59l7.78-7.78 2.81-2.81c.8-.78.8-2.07 0-2.86zM5.41 20L4 18.59l7.72-7.72 1.47 1.35L5.41 20z\"/>\n",
              "  </svg>\n",
              "      </button>\n",
              "      \n",
              "  <style>\n",
              "    .colab-df-container {\n",
              "      display:flex;\n",
              "      flex-wrap:wrap;\n",
              "      gap: 12px;\n",
              "    }\n",
              "\n",
              "    .colab-df-convert {\n",
              "      background-color: #E8F0FE;\n",
              "      border: none;\n",
              "      border-radius: 50%;\n",
              "      cursor: pointer;\n",
              "      display: none;\n",
              "      fill: #1967D2;\n",
              "      height: 32px;\n",
              "      padding: 0 0 0 0;\n",
              "      width: 32px;\n",
              "    }\n",
              "\n",
              "    .colab-df-convert:hover {\n",
              "      background-color: #E2EBFA;\n",
              "      box-shadow: 0px 1px 2px rgba(60, 64, 67, 0.3), 0px 1px 3px 1px rgba(60, 64, 67, 0.15);\n",
              "      fill: #174EA6;\n",
              "    }\n",
              "\n",
              "    [theme=dark] .colab-df-convert {\n",
              "      background-color: #3B4455;\n",
              "      fill: #D2E3FC;\n",
              "    }\n",
              "\n",
              "    [theme=dark] .colab-df-convert:hover {\n",
              "      background-color: #434B5C;\n",
              "      box-shadow: 0px 1px 3px 1px rgba(0, 0, 0, 0.15);\n",
              "      filter: drop-shadow(0px 1px 2px rgba(0, 0, 0, 0.3));\n",
              "      fill: #FFFFFF;\n",
              "    }\n",
              "  </style>\n",
              "\n",
              "      <script>\n",
              "        const buttonEl =\n",
              "          document.querySelector('#df-ad36fe28-9657-4c78-ae00-b0f4c26884ee button.colab-df-convert');\n",
              "        buttonEl.style.display =\n",
              "          google.colab.kernel.accessAllowed ? 'block' : 'none';\n",
              "\n",
              "        async function convertToInteractive(key) {\n",
              "          const element = document.querySelector('#df-ad36fe28-9657-4c78-ae00-b0f4c26884ee');\n",
              "          const dataTable =\n",
              "            await google.colab.kernel.invokeFunction('convertToInteractive',\n",
              "                                                     [key], {});\n",
              "          if (!dataTable) return;\n",
              "\n",
              "          const docLinkHtml = 'Like what you see? Visit the ' +\n",
              "            '<a target=\"_blank\" href=https://colab.research.google.com/notebooks/data_table.ipynb>data table notebook</a>'\n",
              "            + ' to learn more about interactive tables.';\n",
              "          element.innerHTML = '';\n",
              "          dataTable['output_type'] = 'display_data';\n",
              "          await google.colab.output.renderOutput(dataTable, element);\n",
              "          const docLink = document.createElement('div');\n",
              "          docLink.innerHTML = docLinkHtml;\n",
              "          element.appendChild(docLink);\n",
              "        }\n",
              "      </script>\n",
              "    </div>\n",
              "  </div>\n",
              "  "
            ]
          },
          "metadata": {},
          "execution_count": 51
        }
      ]
    },
    {
      "cell_type": "code",
      "source": [
        "result.shape"
      ],
      "metadata": {
        "colab": {
          "base_uri": "https://localhost:8080/"
        },
        "id": "ErfYAWbuFOoN",
        "outputId": "42a4f9b3-68a0-49bc-d906-008b046b3f89"
      },
      "execution_count": 52,
      "outputs": [
        {
          "output_type": "execute_result",
          "data": {
            "text/plain": [
              "(2721, 5)"
            ]
          },
          "metadata": {},
          "execution_count": 52
        }
      ]
    },
    {
      "cell_type": "code",
      "execution_count": 27,
      "metadata": {
        "id": "--dDFgZHX2ZK"
      },
      "outputs": [],
      "source": [
        "import progressbar as pb\n",
        "import random"
      ]
    },
    {
      "cell_type": "code",
      "execution_count": 28,
      "metadata": {
        "colab": {
          "base_uri": "https://localhost:8080/"
        },
        "id": "ozG3hUjWX8BV",
        "outputId": "99526099-ed76-4159-875b-7a2b32242ef0"
      },
      "outputs": [
        {
          "output_type": "stream",
          "name": "stderr",
          "text": [
            "N/A% (0 of 2721) |                       | Elapsed Time: 0:00:00 ETA:  --:--:--/usr/local/lib/python3.7/dist-packages/ipykernel_launcher.py:9: PerformanceWarning: DataFrame is highly fragmented.  This is usually the result of calling `frame.insert` many times, which has poor performance.  Consider joining all columns at once using pd.concat(axis=1) instead.  To get a de-fragmented frame, use `newframe = frame.copy()`\n",
            "  if __name__ == '__main__':\n",
            "100% (2721 of 2721) |####################| Elapsed Time: 0:00:01 Time:  0:00:01\n",
            "100% (2721 of 2721) |####################| Elapsed Time: 0:02:26 Time:  0:02:26\n"
          ]
        }
      ],
      "source": [
        "#5. The following code creates \"User-Item\" matrix or dataFrame where each column (x-axis) represents the product_id and the each row (y-axis) represents the customer_unique_id:\n",
        "\n",
        "c_data = pd.DataFrame()\n",
        "products = []\n",
        "c_data['order_id'] = 0\n",
        "for product in pb.progressbar(result['product_id']):\n",
        "    if product not in products:\n",
        "        products.append(product)\n",
        "        c_data[product] = 0\n",
        "users = []\n",
        "for user in pb.progressbar(result['customer_unique_id']):\n",
        "    if user not in users:\n",
        "        users.append(user)\n",
        "        append_dic = {'order_id':user} \n",
        "        for column in c_data.columns:\n",
        "            if column != 'order_id':\n",
        "                append_dic[column] = 0\n",
        "        c_data = c_data.append(pd.DataFrame([append_dic]))\n",
        "c_data = c_data.set_index('order_id')"
      ]
    },
    {
      "cell_type": "code",
      "source": [
        "result.reset_index(inplace = True,drop = True)"
      ],
      "metadata": {
        "id": "tD-Z_sIdWA0n"
      },
      "execution_count": 29,
      "outputs": []
    },
    {
      "cell_type": "code",
      "source": [
        "#6. The following code goes through all the data in vertical format and plugs it into our table:\n",
        "for index in pb.progressbar(range(len(result)-1)):\n",
        "    c_data.loc[result['customer_unique_id'][index],result['product_id'][index]] = result['review_score'][index]\n"
      ],
      "metadata": {
        "id": "N-FvNqq_sWhy",
        "colab": {
          "base_uri": "https://localhost:8080/"
        },
        "outputId": "b268daf4-2e08-46c4-fe18-30d685f23c7c"
      },
      "execution_count": 30,
      "outputs": [
        {
          "output_type": "stream",
          "name": "stderr",
          "text": [
            "100% (2720 of 2720) |####################| Elapsed Time: 0:00:00 Time:  0:00:00\n"
          ]
        }
      ]
    },
    {
      "cell_type": "code",
      "source": [
        "c_data.to_csv ('c_data_reduced.csv', index = None, header=True)"
      ],
      "metadata": {
        "id": "xEqrrGgir6HF"
      },
      "execution_count": 31,
      "outputs": []
    },
    {
      "cell_type": "code",
      "source": [
        "c_data.head()"
      ],
      "metadata": {
        "colab": {
          "base_uri": "https://localhost:8080/",
          "height": 331
        },
        "id": "Ez3cLBpNWPWR",
        "outputId": "9107c023-45e2-42d3-a25d-53053c135761"
      },
      "execution_count": 55,
      "outputs": [
        {
          "output_type": "execute_result",
          "data": {
            "text/plain": [
              "                                  4c3ae5db49258df0784827bdacf3b396  \\\n",
              "order_id                                                             \n",
              "6204c4e582a95b6a350adf6988623bfb                                 1   \n",
              "35ecdf6858edc6427223b64804cf028e                                 0   \n",
              "8004f80e361a5ee23aadb7418a685fc2                                 0   \n",
              "c5f6047fb345ffd234cf5b26268988be                                 0   \n",
              "1373e04979cfa0fb2092909abbd57f25                                 0   \n",
              "\n",
              "                                  fb7a100ec8c7b34f60cec22b1a9a10e0  \\\n",
              "order_id                                                             \n",
              "6204c4e582a95b6a350adf6988623bfb                                 5   \n",
              "35ecdf6858edc6427223b64804cf028e                                 0   \n",
              "8004f80e361a5ee23aadb7418a685fc2                                 0   \n",
              "c5f6047fb345ffd234cf5b26268988be                                 0   \n",
              "1373e04979cfa0fb2092909abbd57f25                                 0   \n",
              "\n",
              "                                  e8c6039a25765995ac7c1ec2cbef5765  \\\n",
              "order_id                                                             \n",
              "6204c4e582a95b6a350adf6988623bfb                                 0   \n",
              "35ecdf6858edc6427223b64804cf028e                                 5   \n",
              "8004f80e361a5ee23aadb7418a685fc2                                 0   \n",
              "c5f6047fb345ffd234cf5b26268988be                                 0   \n",
              "1373e04979cfa0fb2092909abbd57f25                                 0   \n",
              "\n",
              "                                  ee0c1cf2fbeae95205b4aa506f1469f0  \\\n",
              "order_id                                                             \n",
              "6204c4e582a95b6a350adf6988623bfb                                 0   \n",
              "35ecdf6858edc6427223b64804cf028e                                 0   \n",
              "8004f80e361a5ee23aadb7418a685fc2                                 2   \n",
              "c5f6047fb345ffd234cf5b26268988be                                 0   \n",
              "1373e04979cfa0fb2092909abbd57f25                                 0   \n",
              "\n",
              "                                  24a014458ccc6e989b4fcef5fa71da58  \\\n",
              "order_id                                                             \n",
              "6204c4e582a95b6a350adf6988623bfb                                 0   \n",
              "35ecdf6858edc6427223b64804cf028e                                 0   \n",
              "8004f80e361a5ee23aadb7418a685fc2                                 0   \n",
              "c5f6047fb345ffd234cf5b26268988be                                 3   \n",
              "1373e04979cfa0fb2092909abbd57f25                                 0   \n",
              "\n",
              "                                  3552627a68384dc559f0fd4cce173269  \\\n",
              "order_id                                                             \n",
              "6204c4e582a95b6a350adf6988623bfb                                 0   \n",
              "35ecdf6858edc6427223b64804cf028e                                 0   \n",
              "8004f80e361a5ee23aadb7418a685fc2                                 0   \n",
              "c5f6047fb345ffd234cf5b26268988be                                 0   \n",
              "1373e04979cfa0fb2092909abbd57f25                                 5   \n",
              "\n",
              "                                  55939df5d8d2b853fbc532bf8a00dc32  \\\n",
              "order_id                                                             \n",
              "6204c4e582a95b6a350adf6988623bfb                                 0   \n",
              "35ecdf6858edc6427223b64804cf028e                                 0   \n",
              "8004f80e361a5ee23aadb7418a685fc2                                 0   \n",
              "c5f6047fb345ffd234cf5b26268988be                                 0   \n",
              "1373e04979cfa0fb2092909abbd57f25                                 0   \n",
              "\n",
              "                                  6c90c0f6c2d89eb816b9e205b9d6a36a  \\\n",
              "order_id                                                             \n",
              "6204c4e582a95b6a350adf6988623bfb                                 0   \n",
              "35ecdf6858edc6427223b64804cf028e                                 0   \n",
              "8004f80e361a5ee23aadb7418a685fc2                                 0   \n",
              "c5f6047fb345ffd234cf5b26268988be                                 0   \n",
              "1373e04979cfa0fb2092909abbd57f25                                 0   \n",
              "\n",
              "                                  b7d94dc0640c7025dc8e3b46b52d8239  \\\n",
              "order_id                                                             \n",
              "6204c4e582a95b6a350adf6988623bfb                                 0   \n",
              "35ecdf6858edc6427223b64804cf028e                                 0   \n",
              "8004f80e361a5ee23aadb7418a685fc2                                 0   \n",
              "c5f6047fb345ffd234cf5b26268988be                                 0   \n",
              "1373e04979cfa0fb2092909abbd57f25                                 0   \n",
              "\n",
              "                                  d143bf43abb18593fa8ed20cc990ae84  ...  \\\n",
              "order_id                                                            ...   \n",
              "6204c4e582a95b6a350adf6988623bfb                                 0  ...   \n",
              "35ecdf6858edc6427223b64804cf028e                                 0  ...   \n",
              "8004f80e361a5ee23aadb7418a685fc2                                 0  ...   \n",
              "c5f6047fb345ffd234cf5b26268988be                                 0  ...   \n",
              "1373e04979cfa0fb2092909abbd57f25                                 0  ...   \n",
              "\n",
              "                                  e0d3e5cf1969f20bd69e052ec6cf8f8f  \\\n",
              "order_id                                                             \n",
              "6204c4e582a95b6a350adf6988623bfb                                 0   \n",
              "35ecdf6858edc6427223b64804cf028e                                 0   \n",
              "8004f80e361a5ee23aadb7418a685fc2                                 0   \n",
              "c5f6047fb345ffd234cf5b26268988be                                 0   \n",
              "1373e04979cfa0fb2092909abbd57f25                                 0   \n",
              "\n",
              "                                  056d012d264624accb7f73d31caee034  \\\n",
              "order_id                                                             \n",
              "6204c4e582a95b6a350adf6988623bfb                                 0   \n",
              "35ecdf6858edc6427223b64804cf028e                                 0   \n",
              "8004f80e361a5ee23aadb7418a685fc2                                 0   \n",
              "c5f6047fb345ffd234cf5b26268988be                                 0   \n",
              "1373e04979cfa0fb2092909abbd57f25                                 0   \n",
              "\n",
              "                                  6f735de7025b8e74fc832dfd6ec2bf5d  \\\n",
              "order_id                                                             \n",
              "6204c4e582a95b6a350adf6988623bfb                                 0   \n",
              "35ecdf6858edc6427223b64804cf028e                                 0   \n",
              "8004f80e361a5ee23aadb7418a685fc2                                 0   \n",
              "c5f6047fb345ffd234cf5b26268988be                                 0   \n",
              "1373e04979cfa0fb2092909abbd57f25                                 0   \n",
              "\n",
              "                                  ce6f74096c84567f22728c84f3d6e7fc  \\\n",
              "order_id                                                             \n",
              "6204c4e582a95b6a350adf6988623bfb                                 0   \n",
              "35ecdf6858edc6427223b64804cf028e                                 0   \n",
              "8004f80e361a5ee23aadb7418a685fc2                                 0   \n",
              "c5f6047fb345ffd234cf5b26268988be                                 0   \n",
              "1373e04979cfa0fb2092909abbd57f25                                 0   \n",
              "\n",
              "                                  803f77475e1b51b47f1bfec4f2ec353f  \\\n",
              "order_id                                                             \n",
              "6204c4e582a95b6a350adf6988623bfb                                 0   \n",
              "35ecdf6858edc6427223b64804cf028e                                 0   \n",
              "8004f80e361a5ee23aadb7418a685fc2                                 0   \n",
              "c5f6047fb345ffd234cf5b26268988be                                 0   \n",
              "1373e04979cfa0fb2092909abbd57f25                                 0   \n",
              "\n",
              "                                  bd0ac51dc93e62c4dbe6ca9d70a9b311  \\\n",
              "order_id                                                             \n",
              "6204c4e582a95b6a350adf6988623bfb                                 0   \n",
              "35ecdf6858edc6427223b64804cf028e                                 0   \n",
              "8004f80e361a5ee23aadb7418a685fc2                                 0   \n",
              "c5f6047fb345ffd234cf5b26268988be                                 0   \n",
              "1373e04979cfa0fb2092909abbd57f25                                 0   \n",
              "\n",
              "                                  bd6e8cf9fe4122c385da2bcb9f979d5d  \\\n",
              "order_id                                                             \n",
              "6204c4e582a95b6a350adf6988623bfb                                 0   \n",
              "35ecdf6858edc6427223b64804cf028e                                 0   \n",
              "8004f80e361a5ee23aadb7418a685fc2                                 0   \n",
              "c5f6047fb345ffd234cf5b26268988be                                 0   \n",
              "1373e04979cfa0fb2092909abbd57f25                                 0   \n",
              "\n",
              "                                  3321ad579f19476d0d668f726f8dffec  \\\n",
              "order_id                                                             \n",
              "6204c4e582a95b6a350adf6988623bfb                                 0   \n",
              "35ecdf6858edc6427223b64804cf028e                                 0   \n",
              "8004f80e361a5ee23aadb7418a685fc2                                 0   \n",
              "c5f6047fb345ffd234cf5b26268988be                                 0   \n",
              "1373e04979cfa0fb2092909abbd57f25                                 0   \n",
              "\n",
              "                                  fec565c4e3ad965c73fb1a21bb809257  \\\n",
              "order_id                                                             \n",
              "6204c4e582a95b6a350adf6988623bfb                                 0   \n",
              "35ecdf6858edc6427223b64804cf028e                                 0   \n",
              "8004f80e361a5ee23aadb7418a685fc2                                 0   \n",
              "c5f6047fb345ffd234cf5b26268988be                                 0   \n",
              "1373e04979cfa0fb2092909abbd57f25                                 0   \n",
              "\n",
              "                                  b10ecf8e33aaaea419a9fa860ea80fb5  \n",
              "order_id                                                            \n",
              "6204c4e582a95b6a350adf6988623bfb                                 0  \n",
              "35ecdf6858edc6427223b64804cf028e                                 0  \n",
              "8004f80e361a5ee23aadb7418a685fc2                                 0  \n",
              "c5f6047fb345ffd234cf5b26268988be                                 0  \n",
              "1373e04979cfa0fb2092909abbd57f25                                 0  \n",
              "\n",
              "[5 rows x 2234 columns]"
            ],
            "text/html": [
              "\n",
              "  <div id=\"df-0b4eb46a-6dd8-41a4-9af2-b9f2dc5b0b8b\">\n",
              "    <div class=\"colab-df-container\">\n",
              "      <div>\n",
              "<style scoped>\n",
              "    .dataframe tbody tr th:only-of-type {\n",
              "        vertical-align: middle;\n",
              "    }\n",
              "\n",
              "    .dataframe tbody tr th {\n",
              "        vertical-align: top;\n",
              "    }\n",
              "\n",
              "    .dataframe thead th {\n",
              "        text-align: right;\n",
              "    }\n",
              "</style>\n",
              "<table border=\"1\" class=\"dataframe\">\n",
              "  <thead>\n",
              "    <tr style=\"text-align: right;\">\n",
              "      <th></th>\n",
              "      <th>4c3ae5db49258df0784827bdacf3b396</th>\n",
              "      <th>fb7a100ec8c7b34f60cec22b1a9a10e0</th>\n",
              "      <th>e8c6039a25765995ac7c1ec2cbef5765</th>\n",
              "      <th>ee0c1cf2fbeae95205b4aa506f1469f0</th>\n",
              "      <th>24a014458ccc6e989b4fcef5fa71da58</th>\n",
              "      <th>3552627a68384dc559f0fd4cce173269</th>\n",
              "      <th>55939df5d8d2b853fbc532bf8a00dc32</th>\n",
              "      <th>6c90c0f6c2d89eb816b9e205b9d6a36a</th>\n",
              "      <th>b7d94dc0640c7025dc8e3b46b52d8239</th>\n",
              "      <th>d143bf43abb18593fa8ed20cc990ae84</th>\n",
              "      <th>...</th>\n",
              "      <th>e0d3e5cf1969f20bd69e052ec6cf8f8f</th>\n",
              "      <th>056d012d264624accb7f73d31caee034</th>\n",
              "      <th>6f735de7025b8e74fc832dfd6ec2bf5d</th>\n",
              "      <th>ce6f74096c84567f22728c84f3d6e7fc</th>\n",
              "      <th>803f77475e1b51b47f1bfec4f2ec353f</th>\n",
              "      <th>bd0ac51dc93e62c4dbe6ca9d70a9b311</th>\n",
              "      <th>bd6e8cf9fe4122c385da2bcb9f979d5d</th>\n",
              "      <th>3321ad579f19476d0d668f726f8dffec</th>\n",
              "      <th>fec565c4e3ad965c73fb1a21bb809257</th>\n",
              "      <th>b10ecf8e33aaaea419a9fa860ea80fb5</th>\n",
              "    </tr>\n",
              "    <tr>\n",
              "      <th>order_id</th>\n",
              "      <th></th>\n",
              "      <th></th>\n",
              "      <th></th>\n",
              "      <th></th>\n",
              "      <th></th>\n",
              "      <th></th>\n",
              "      <th></th>\n",
              "      <th></th>\n",
              "      <th></th>\n",
              "      <th></th>\n",
              "      <th></th>\n",
              "      <th></th>\n",
              "      <th></th>\n",
              "      <th></th>\n",
              "      <th></th>\n",
              "      <th></th>\n",
              "      <th></th>\n",
              "      <th></th>\n",
              "      <th></th>\n",
              "      <th></th>\n",
              "      <th></th>\n",
              "    </tr>\n",
              "  </thead>\n",
              "  <tbody>\n",
              "    <tr>\n",
              "      <th>6204c4e582a95b6a350adf6988623bfb</th>\n",
              "      <td>1</td>\n",
              "      <td>5</td>\n",
              "      <td>0</td>\n",
              "      <td>0</td>\n",
              "      <td>0</td>\n",
              "      <td>0</td>\n",
              "      <td>0</td>\n",
              "      <td>0</td>\n",
              "      <td>0</td>\n",
              "      <td>0</td>\n",
              "      <td>...</td>\n",
              "      <td>0</td>\n",
              "      <td>0</td>\n",
              "      <td>0</td>\n",
              "      <td>0</td>\n",
              "      <td>0</td>\n",
              "      <td>0</td>\n",
              "      <td>0</td>\n",
              "      <td>0</td>\n",
              "      <td>0</td>\n",
              "      <td>0</td>\n",
              "    </tr>\n",
              "    <tr>\n",
              "      <th>35ecdf6858edc6427223b64804cf028e</th>\n",
              "      <td>0</td>\n",
              "      <td>0</td>\n",
              "      <td>5</td>\n",
              "      <td>0</td>\n",
              "      <td>0</td>\n",
              "      <td>0</td>\n",
              "      <td>0</td>\n",
              "      <td>0</td>\n",
              "      <td>0</td>\n",
              "      <td>0</td>\n",
              "      <td>...</td>\n",
              "      <td>0</td>\n",
              "      <td>0</td>\n",
              "      <td>0</td>\n",
              "      <td>0</td>\n",
              "      <td>0</td>\n",
              "      <td>0</td>\n",
              "      <td>0</td>\n",
              "      <td>0</td>\n",
              "      <td>0</td>\n",
              "      <td>0</td>\n",
              "    </tr>\n",
              "    <tr>\n",
              "      <th>8004f80e361a5ee23aadb7418a685fc2</th>\n",
              "      <td>0</td>\n",
              "      <td>0</td>\n",
              "      <td>0</td>\n",
              "      <td>2</td>\n",
              "      <td>0</td>\n",
              "      <td>0</td>\n",
              "      <td>0</td>\n",
              "      <td>0</td>\n",
              "      <td>0</td>\n",
              "      <td>0</td>\n",
              "      <td>...</td>\n",
              "      <td>0</td>\n",
              "      <td>0</td>\n",
              "      <td>0</td>\n",
              "      <td>0</td>\n",
              "      <td>0</td>\n",
              "      <td>0</td>\n",
              "      <td>0</td>\n",
              "      <td>0</td>\n",
              "      <td>0</td>\n",
              "      <td>0</td>\n",
              "    </tr>\n",
              "    <tr>\n",
              "      <th>c5f6047fb345ffd234cf5b26268988be</th>\n",
              "      <td>0</td>\n",
              "      <td>0</td>\n",
              "      <td>0</td>\n",
              "      <td>0</td>\n",
              "      <td>3</td>\n",
              "      <td>0</td>\n",
              "      <td>0</td>\n",
              "      <td>0</td>\n",
              "      <td>0</td>\n",
              "      <td>0</td>\n",
              "      <td>...</td>\n",
              "      <td>0</td>\n",
              "      <td>0</td>\n",
              "      <td>0</td>\n",
              "      <td>0</td>\n",
              "      <td>0</td>\n",
              "      <td>0</td>\n",
              "      <td>0</td>\n",
              "      <td>0</td>\n",
              "      <td>0</td>\n",
              "      <td>0</td>\n",
              "    </tr>\n",
              "    <tr>\n",
              "      <th>1373e04979cfa0fb2092909abbd57f25</th>\n",
              "      <td>0</td>\n",
              "      <td>0</td>\n",
              "      <td>0</td>\n",
              "      <td>0</td>\n",
              "      <td>0</td>\n",
              "      <td>5</td>\n",
              "      <td>0</td>\n",
              "      <td>0</td>\n",
              "      <td>0</td>\n",
              "      <td>0</td>\n",
              "      <td>...</td>\n",
              "      <td>0</td>\n",
              "      <td>0</td>\n",
              "      <td>0</td>\n",
              "      <td>0</td>\n",
              "      <td>0</td>\n",
              "      <td>0</td>\n",
              "      <td>0</td>\n",
              "      <td>0</td>\n",
              "      <td>0</td>\n",
              "      <td>0</td>\n",
              "    </tr>\n",
              "  </tbody>\n",
              "</table>\n",
              "<p>5 rows × 2234 columns</p>\n",
              "</div>\n",
              "      <button class=\"colab-df-convert\" onclick=\"convertToInteractive('df-0b4eb46a-6dd8-41a4-9af2-b9f2dc5b0b8b')\"\n",
              "              title=\"Convert this dataframe to an interactive table.\"\n",
              "              style=\"display:none;\">\n",
              "        \n",
              "  <svg xmlns=\"http://www.w3.org/2000/svg\" height=\"24px\"viewBox=\"0 0 24 24\"\n",
              "       width=\"24px\">\n",
              "    <path d=\"M0 0h24v24H0V0z\" fill=\"none\"/>\n",
              "    <path d=\"M18.56 5.44l.94 2.06.94-2.06 2.06-.94-2.06-.94-.94-2.06-.94 2.06-2.06.94zm-11 1L8.5 8.5l.94-2.06 2.06-.94-2.06-.94L8.5 2.5l-.94 2.06-2.06.94zm10 10l.94 2.06.94-2.06 2.06-.94-2.06-.94-.94-2.06-.94 2.06-2.06.94z\"/><path d=\"M17.41 7.96l-1.37-1.37c-.4-.4-.92-.59-1.43-.59-.52 0-1.04.2-1.43.59L10.3 9.45l-7.72 7.72c-.78.78-.78 2.05 0 2.83L4 21.41c.39.39.9.59 1.41.59.51 0 1.02-.2 1.41-.59l7.78-7.78 2.81-2.81c.8-.78.8-2.07 0-2.86zM5.41 20L4 18.59l7.72-7.72 1.47 1.35L5.41 20z\"/>\n",
              "  </svg>\n",
              "      </button>\n",
              "      \n",
              "  <style>\n",
              "    .colab-df-container {\n",
              "      display:flex;\n",
              "      flex-wrap:wrap;\n",
              "      gap: 12px;\n",
              "    }\n",
              "\n",
              "    .colab-df-convert {\n",
              "      background-color: #E8F0FE;\n",
              "      border: none;\n",
              "      border-radius: 50%;\n",
              "      cursor: pointer;\n",
              "      display: none;\n",
              "      fill: #1967D2;\n",
              "      height: 32px;\n",
              "      padding: 0 0 0 0;\n",
              "      width: 32px;\n",
              "    }\n",
              "\n",
              "    .colab-df-convert:hover {\n",
              "      background-color: #E2EBFA;\n",
              "      box-shadow: 0px 1px 2px rgba(60, 64, 67, 0.3), 0px 1px 3px 1px rgba(60, 64, 67, 0.15);\n",
              "      fill: #174EA6;\n",
              "    }\n",
              "\n",
              "    [theme=dark] .colab-df-convert {\n",
              "      background-color: #3B4455;\n",
              "      fill: #D2E3FC;\n",
              "    }\n",
              "\n",
              "    [theme=dark] .colab-df-convert:hover {\n",
              "      background-color: #434B5C;\n",
              "      box-shadow: 0px 1px 3px 1px rgba(0, 0, 0, 0.15);\n",
              "      filter: drop-shadow(0px 1px 2px rgba(0, 0, 0, 0.3));\n",
              "      fill: #FFFFFF;\n",
              "    }\n",
              "  </style>\n",
              "\n",
              "      <script>\n",
              "        const buttonEl =\n",
              "          document.querySelector('#df-0b4eb46a-6dd8-41a4-9af2-b9f2dc5b0b8b button.colab-df-convert');\n",
              "        buttonEl.style.display =\n",
              "          google.colab.kernel.accessAllowed ? 'block' : 'none';\n",
              "\n",
              "        async function convertToInteractive(key) {\n",
              "          const element = document.querySelector('#df-0b4eb46a-6dd8-41a4-9af2-b9f2dc5b0b8b');\n",
              "          const dataTable =\n",
              "            await google.colab.kernel.invokeFunction('convertToInteractive',\n",
              "                                                     [key], {});\n",
              "          if (!dataTable) return;\n",
              "\n",
              "          const docLinkHtml = 'Like what you see? Visit the ' +\n",
              "            '<a target=\"_blank\" href=https://colab.research.google.com/notebooks/data_table.ipynb>data table notebook</a>'\n",
              "            + ' to learn more about interactive tables.';\n",
              "          element.innerHTML = '';\n",
              "          dataTable['output_type'] = 'display_data';\n",
              "          await google.colab.output.renderOutput(dataTable, element);\n",
              "          const docLink = document.createElement('div');\n",
              "          docLink.innerHTML = docLinkHtml;\n",
              "          element.appendChild(docLink);\n",
              "        }\n",
              "      </script>\n",
              "    </div>\n",
              "  </div>\n",
              "  "
            ]
          },
          "metadata": {},
          "execution_count": 55
        }
      ]
    },
    {
      "cell_type": "code",
      "source": [
        "c_data.shape"
      ],
      "metadata": {
        "colab": {
          "base_uri": "https://localhost:8080/"
        },
        "id": "ikKM4NksWyNd",
        "outputId": "1ef2002c-8f7d-4119-9d0a-43fdeeacefbd"
      },
      "execution_count": 38,
      "outputs": [
        {
          "output_type": "execute_result",
          "data": {
            "text/plain": [
              "(791, 2234)"
            ]
          },
          "metadata": {},
          "execution_count": 38
        }
      ]
    },
    {
      "cell_type": "code",
      "source": [
        "# 7. Matrix factorization function to predict empty entries in \"User-Item\" matrix:\n",
        "\n",
        "# R –  M by N \"User-Item\" matrix holding the true values (with unknown values marked as 0)\n",
        "# P and Q are the two matrices that, when multiplied, form an estimate for R\n",
        "# K represents the columns of P and the rows of Q \n",
        "# P is of dimensions M by P\n",
        "# Q is of dimensions P by N\n",
        "\n",
        "\n",
        "def matrix_factorization(R, P, Q, K, steps=1000, alpha=0.0002, beta=0.02):\n",
        "    Q = Q.T\n",
        "    for step in pb.progressbar(range(steps)):\n",
        "        for i in range(len(R)):\n",
        "            for j in range(len(R[i])):\n",
        "                if R[i][j] > 0:\n",
        "                    eij = R[i][j] - np.dot(P[i,:],Q[:,j])\n",
        "                    for k in range(K):\n",
        "                        P[i][k] = P[i][k] + alpha * (2 * eij * Q[k][j] - beta * P[i][k])\n",
        "                        Q[k][j] = Q[k][j] + alpha * (2 * eij * P[i][k] - beta * Q[k][j])\n",
        "        eR = np.dot(P,Q)\n",
        "        e = 0\n",
        "        for i in range(len(R)):\n",
        "            for j in range(len(R[i])):\n",
        "                if R[i][j] > 0:\n",
        "                    e = e + pow(R[i][j] - np.dot(P[i,:],Q[:,j]), 2)\n",
        "                    for k in range(K):\n",
        "                        e = e + (beta/2) * (pow(P[i][k],2) + pow(Q[k][j],2))\n",
        "        if e < 0.001:\n",
        "            break\n",
        "    return P, Q.T"
      ],
      "metadata": {
        "id": "kJZy_rgIkcY-"
      },
      "execution_count": 39,
      "outputs": []
    },
    {
      "cell_type": "code",
      "source": [
        "# 8. Transforming dataframe to array:\n",
        "R = np.array(c_data)"
      ],
      "metadata": {
        "id": "7D5tyfM9kvsv"
      },
      "execution_count": 40,
      "outputs": []
    },
    {
      "cell_type": "code",
      "source": [
        "# 9. Number of rows of matrix R: \n",
        "N = len(R)\n",
        "print(N)"
      ],
      "metadata": {
        "colab": {
          "base_uri": "https://localhost:8080/"
        },
        "id": "i0OR6Y3SlDR5",
        "outputId": "3b7d579b-795c-4d46-d09a-4bfa658a102b"
      },
      "execution_count": 41,
      "outputs": [
        {
          "output_type": "stream",
          "name": "stdout",
          "text": [
            "791\n"
          ]
        }
      ]
    },
    {
      "cell_type": "code",
      "source": [
        "# 10. Number of columns of matrix R: \n",
        "M = len(R[0])\n",
        "print(M)"
      ],
      "metadata": {
        "colab": {
          "base_uri": "https://localhost:8080/"
        },
        "id": "OdGwduALlHlq",
        "outputId": "6e476828-59d2-4946-b4d1-78045307125a"
      },
      "execution_count": 42,
      "outputs": [
        {
          "output_type": "stream",
          "name": "stdout",
          "text": [
            "2234\n"
          ]
        }
      ]
    },
    {
      "cell_type": "code",
      "source": [
        "# 10. Setting K = 2 (columns of P and the rows of Q) and then creating random values for matrices P and Q:\n",
        "K = 2\n",
        "\n",
        "P = np.random.rand(N,K)\n",
        "Q = np.random.rand(M,K)\n",
        "\n",
        "# finally running Matrix Factorization function: \n",
        "nP, nQ = matrix_factorization(R, P, Q, K)\n",
        "nR = np.dot(nP, nQ.T)"
      ],
      "metadata": {
        "colab": {
          "base_uri": "https://localhost:8080/"
        },
        "id": "d30vGDRbl1OL",
        "outputId": "b65ad1b5-4420-4d20-c6ca-bd45ac556c68"
      },
      "execution_count": 43,
      "outputs": [
        {
          "output_type": "stream",
          "name": "stderr",
          "text": [
            "100% (1000 of 1000) |####################| Elapsed Time: 0:29:23 Time:  0:29:23\n"
          ]
        }
      ]
    },
    {
      "cell_type": "code",
      "source": [
        "# 11. Final array with predicted values (along with a very close values for original=known values):\n",
        "nR"
      ],
      "metadata": {
        "colab": {
          "base_uri": "https://localhost:8080/"
        },
        "id": "1PzVJYZd-BeP",
        "outputId": "865ad5d4-fbe7-4989-8a86-1895c23dcd19"
      },
      "execution_count": 44,
      "outputs": [
        {
          "output_type": "execute_result",
          "data": {
            "text/plain": [
              "array([[1.56005735, 4.40043656, 3.116055  , ..., 1.19520604, 1.99656491,\n",
              "        1.58050208],\n",
              "       [2.55087373, 6.65404351, 4.99655615, ..., 2.2536877 , 3.05800577,\n",
              "        2.25141255],\n",
              "       [1.36915727, 3.2434762 , 2.62211905, ..., 1.39111039, 1.51612632,\n",
              "        1.00665276],\n",
              "       ...,\n",
              "       [1.98868693, 4.93983327, 3.85025254, ..., 1.89404371, 2.2894765 ,\n",
              "        1.60284197],\n",
              "       [1.88645921, 5.36825121, 3.7765933 , ..., 1.41919548, 2.43229028,\n",
              "        1.94017621],\n",
              "       [0.76882669, 1.9738996 , 1.50019222, ..., 0.69674371, 0.90960638,\n",
              "        0.65912476]])"
            ]
          },
          "metadata": {},
          "execution_count": 44
        }
      ]
    },
    {
      "cell_type": "code",
      "source": [
        "# 12. Savinf the file with predicted values into csv file:\n",
        "pd.DataFrame(nR).to_csv('predictions.csv')"
      ],
      "metadata": {
        "id": "pj5O1Zb7-NF1"
      },
      "execution_count": 46,
      "outputs": []
    }
  ],
  "metadata": {
    "colab": {
      "provenance": [],
      "authorship_tag": "ABX9TyM0D08f4cb7AQSwH9yFGcwE",
      "include_colab_link": true
    },
    "kernelspec": {
      "display_name": "Python 3",
      "name": "python3"
    },
    "language_info": {
      "name": "python"
    }
  },
  "nbformat": 4,
  "nbformat_minor": 0
}