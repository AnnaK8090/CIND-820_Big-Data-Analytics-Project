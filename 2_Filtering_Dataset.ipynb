{
  "cells": [
    {
      "cell_type": "markdown",
      "metadata": {
        "id": "view-in-github",
        "colab_type": "text"
      },
      "source": [
        "<a href=\"https://colab.research.google.com/github/AnnaK8090/CIND-820_Big-Data-Analytics-Project/blob/main/2_Filtering_Dataset.ipynb\" target=\"_parent\"><img src=\"https://colab.research.google.com/assets/colab-badge.svg\" alt=\"Open In Colab\"/></a>"
      ]
    },
    {
      "cell_type": "code",
      "execution_count": 1,
      "metadata": {
        "id": "3qztHhqOtsRW"
      },
      "outputs": [],
      "source": [
        "# 1. Importing libraries:\n",
        "import numpy as np \n",
        "import pandas as pd   "
      ]
    },
    {
      "cell_type": "code",
      "source": [
        "# 2. Loading csv file and saving it into a dataframe:\n",
        "masterDF = pd.read_csv('MasterDF.csv', on_bad_lines='skip')"
      ],
      "metadata": {
        "id": "E672aNKT6Biq"
      },
      "execution_count": 41,
      "outputs": []
    },
    {
      "cell_type": "code",
      "source": [
        "masterDF.shape"
      ],
      "metadata": {
        "colab": {
          "base_uri": "https://localhost:8080/"
        },
        "id": "y_OF0Iyk6Df3",
        "outputId": "5a40efc2-f63c-4ee6-a030-cadbd8f6ef98"
      },
      "execution_count": 42,
      "outputs": [
        {
          "output_type": "execute_result",
          "data": {
            "text/plain": [
              "(113210, 40)"
            ]
          },
          "metadata": {},
          "execution_count": 42
        }
      ]
    },
    {
      "cell_type": "code",
      "source": [
        "# 3. Since order_ID (~ transaction id) might have more than 1 review we will aggregate dataframe by \n",
        "# key 3 fields (customer_unique_id, product_id and category) and then choose max review score: \n",
        "   \n",
        "masterDF_grouped = masterDF.groupby(['customer_unique_id','product_id','product_category_name_english'])['review_score'].max()\n",
        "masterDF_grouped = masterDF_grouped.reset_index()\n",
        "masterDF_grouped.shape"
      ],
      "metadata": {
        "colab": {
          "base_uri": "https://localhost:8080/"
        },
        "id": "Dpoup2rJ6a57",
        "outputId": "f6b983f8-8e53-4df5-af3d-3867a1596d55"
      },
      "execution_count": 44,
      "outputs": [
        {
          "output_type": "execute_result",
          "data": {
            "text/plain": [
              "(97689, 4)"
            ]
          },
          "metadata": {},
          "execution_count": 44
        }
      ]
    },
    {
      "cell_type": "code",
      "source": [
        "masterDF_grouped.to_csv ('masterDF_grouped.csv', index = None, header=True)"
      ],
      "metadata": {
        "id": "39-WlGggSEpQ"
      },
      "execution_count": 45,
      "outputs": []
    },
    {
      "cell_type": "code",
      "source": [
        "masterDF_grouped.head()"
      ],
      "metadata": {
        "colab": {
          "base_uri": "https://localhost:8080/",
          "height": 206
        },
        "id": "nD57M-Vu8sbh",
        "outputId": "2d6b87e2-03f1-44ee-d04a-72c01f5ba5f0"
      },
      "execution_count": 18,
      "outputs": [
        {
          "output_type": "execute_result",
          "data": {
            "text/plain": [
              "                 customer_unique_id                        product_id  \\\n",
              "0  0000366f3b9a7992bf8c76cfdf3221e2  372645c7439f9661fbbacfd129aa92ec   \n",
              "1  0000b849f77a49e4a4ce2b2a4ca5be3f  5099f7000472b634fea8304448d20825   \n",
              "2  0000f46a3911fa3c0805444483337064  64b488de448a5324c4134ea39c28a34b   \n",
              "3  0000f6ccb0745a6a4b88665a16c9f078  2345a354a6f2033609bbf62bf5be9ef6   \n",
              "4  0004aac84e0df4da2b147fca70cf8255  c72e18b3fe2739b8d24ebf3102450f37   \n",
              "\n",
              "  product_category_name_english  review_score  \n",
              "0                bed_bath_table             5  \n",
              "1                 health_beauty             4  \n",
              "2                    stationery             3  \n",
              "3                     telephony             4  \n",
              "4                     telephony             5  "
            ],
            "text/html": [
              "\n",
              "  <div id=\"df-ccc9c151-ac6d-4d7d-a4d6-cc3add32c267\">\n",
              "    <div class=\"colab-df-container\">\n",
              "      <div>\n",
              "<style scoped>\n",
              "    .dataframe tbody tr th:only-of-type {\n",
              "        vertical-align: middle;\n",
              "    }\n",
              "\n",
              "    .dataframe tbody tr th {\n",
              "        vertical-align: top;\n",
              "    }\n",
              "\n",
              "    .dataframe thead th {\n",
              "        text-align: right;\n",
              "    }\n",
              "</style>\n",
              "<table border=\"1\" class=\"dataframe\">\n",
              "  <thead>\n",
              "    <tr style=\"text-align: right;\">\n",
              "      <th></th>\n",
              "      <th>customer_unique_id</th>\n",
              "      <th>product_id</th>\n",
              "      <th>product_category_name_english</th>\n",
              "      <th>review_score</th>\n",
              "    </tr>\n",
              "  </thead>\n",
              "  <tbody>\n",
              "    <tr>\n",
              "      <th>0</th>\n",
              "      <td>0000366f3b9a7992bf8c76cfdf3221e2</td>\n",
              "      <td>372645c7439f9661fbbacfd129aa92ec</td>\n",
              "      <td>bed_bath_table</td>\n",
              "      <td>5</td>\n",
              "    </tr>\n",
              "    <tr>\n",
              "      <th>1</th>\n",
              "      <td>0000b849f77a49e4a4ce2b2a4ca5be3f</td>\n",
              "      <td>5099f7000472b634fea8304448d20825</td>\n",
              "      <td>health_beauty</td>\n",
              "      <td>4</td>\n",
              "    </tr>\n",
              "    <tr>\n",
              "      <th>2</th>\n",
              "      <td>0000f46a3911fa3c0805444483337064</td>\n",
              "      <td>64b488de448a5324c4134ea39c28a34b</td>\n",
              "      <td>stationery</td>\n",
              "      <td>3</td>\n",
              "    </tr>\n",
              "    <tr>\n",
              "      <th>3</th>\n",
              "      <td>0000f6ccb0745a6a4b88665a16c9f078</td>\n",
              "      <td>2345a354a6f2033609bbf62bf5be9ef6</td>\n",
              "      <td>telephony</td>\n",
              "      <td>4</td>\n",
              "    </tr>\n",
              "    <tr>\n",
              "      <th>4</th>\n",
              "      <td>0004aac84e0df4da2b147fca70cf8255</td>\n",
              "      <td>c72e18b3fe2739b8d24ebf3102450f37</td>\n",
              "      <td>telephony</td>\n",
              "      <td>5</td>\n",
              "    </tr>\n",
              "  </tbody>\n",
              "</table>\n",
              "</div>\n",
              "      <button class=\"colab-df-convert\" onclick=\"convertToInteractive('df-ccc9c151-ac6d-4d7d-a4d6-cc3add32c267')\"\n",
              "              title=\"Convert this dataframe to an interactive table.\"\n",
              "              style=\"display:none;\">\n",
              "        \n",
              "  <svg xmlns=\"http://www.w3.org/2000/svg\" height=\"24px\"viewBox=\"0 0 24 24\"\n",
              "       width=\"24px\">\n",
              "    <path d=\"M0 0h24v24H0V0z\" fill=\"none\"/>\n",
              "    <path d=\"M18.56 5.44l.94 2.06.94-2.06 2.06-.94-2.06-.94-.94-2.06-.94 2.06-2.06.94zm-11 1L8.5 8.5l.94-2.06 2.06-.94-2.06-.94L8.5 2.5l-.94 2.06-2.06.94zm10 10l.94 2.06.94-2.06 2.06-.94-2.06-.94-.94-2.06-.94 2.06-2.06.94z\"/><path d=\"M17.41 7.96l-1.37-1.37c-.4-.4-.92-.59-1.43-.59-.52 0-1.04.2-1.43.59L10.3 9.45l-7.72 7.72c-.78.78-.78 2.05 0 2.83L4 21.41c.39.39.9.59 1.41.59.51 0 1.02-.2 1.41-.59l7.78-7.78 2.81-2.81c.8-.78.8-2.07 0-2.86zM5.41 20L4 18.59l7.72-7.72 1.47 1.35L5.41 20z\"/>\n",
              "  </svg>\n",
              "      </button>\n",
              "      \n",
              "  <style>\n",
              "    .colab-df-container {\n",
              "      display:flex;\n",
              "      flex-wrap:wrap;\n",
              "      gap: 12px;\n",
              "    }\n",
              "\n",
              "    .colab-df-convert {\n",
              "      background-color: #E8F0FE;\n",
              "      border: none;\n",
              "      border-radius: 50%;\n",
              "      cursor: pointer;\n",
              "      display: none;\n",
              "      fill: #1967D2;\n",
              "      height: 32px;\n",
              "      padding: 0 0 0 0;\n",
              "      width: 32px;\n",
              "    }\n",
              "\n",
              "    .colab-df-convert:hover {\n",
              "      background-color: #E2EBFA;\n",
              "      box-shadow: 0px 1px 2px rgba(60, 64, 67, 0.3), 0px 1px 3px 1px rgba(60, 64, 67, 0.15);\n",
              "      fill: #174EA6;\n",
              "    }\n",
              "\n",
              "    [theme=dark] .colab-df-convert {\n",
              "      background-color: #3B4455;\n",
              "      fill: #D2E3FC;\n",
              "    }\n",
              "\n",
              "    [theme=dark] .colab-df-convert:hover {\n",
              "      background-color: #434B5C;\n",
              "      box-shadow: 0px 1px 3px 1px rgba(0, 0, 0, 0.15);\n",
              "      filter: drop-shadow(0px 1px 2px rgba(0, 0, 0, 0.3));\n",
              "      fill: #FFFFFF;\n",
              "    }\n",
              "  </style>\n",
              "\n",
              "      <script>\n",
              "        const buttonEl =\n",
              "          document.querySelector('#df-ccc9c151-ac6d-4d7d-a4d6-cc3add32c267 button.colab-df-convert');\n",
              "        buttonEl.style.display =\n",
              "          google.colab.kernel.accessAllowed ? 'block' : 'none';\n",
              "\n",
              "        async function convertToInteractive(key) {\n",
              "          const element = document.querySelector('#df-ccc9c151-ac6d-4d7d-a4d6-cc3add32c267');\n",
              "          const dataTable =\n",
              "            await google.colab.kernel.invokeFunction('convertToInteractive',\n",
              "                                                     [key], {});\n",
              "          if (!dataTable) return;\n",
              "\n",
              "          const docLinkHtml = 'Like what you see? Visit the ' +\n",
              "            '<a target=\"_blank\" href=https://colab.research.google.com/notebooks/data_table.ipynb>data table notebook</a>'\n",
              "            + ' to learn more about interactive tables.';\n",
              "          element.innerHTML = '';\n",
              "          dataTable['output_type'] = 'display_data';\n",
              "          await google.colab.output.renderOutput(dataTable, element);\n",
              "          const docLink = document.createElement('div');\n",
              "          docLink.innerHTML = docLinkHtml;\n",
              "          element.appendChild(docLink);\n",
              "        }\n",
              "      </script>\n",
              "    </div>\n",
              "  </div>\n",
              "  "
            ]
          },
          "metadata": {},
          "execution_count": 18
        }
      ]
    },
    {
      "cell_type": "code",
      "source": [
        "#4. OPTION 1 \n",
        "# Recommender systems have a problem known as user cold-start, in which is hard do provide personalized recommendations for users with none or a very few number of consumed items, \n",
        "# due to the lack of information to model their preferences. For this reason, we are keeping in the dataset only users with at least 2 reviews.\n",
        "\n",
        "# firstly we count products per customer (in a separate dataframe):\n",
        "ProductsPerCustomer = masterDF_grouped.groupby(['customer_unique_id'])['product_id'].agg('count').reset_index()\n",
        "\n",
        "#secondly we filter the dataframe by condition >2:\n",
        "ProductsGreater2PerCustomer = ProductsPerCustomer.loc[ProductsPerCustomer['product_id'] >=3]\n",
        "\n",
        "#thirdly we filter the initial dataframe - only those customers that bought >=2 products will remain: \n",
        "result1 = masterDF_grouped[(masterDF_grouped.customer_unique_id.isin(ProductsGreater2PerCustomer.customer_unique_id))]\n",
        "result1.shape"
      ],
      "metadata": {
        "colab": {
          "base_uri": "https://localhost:8080/"
        },
        "id": "b1GMFWbNBMOg",
        "outputId": "5b345bc2-656b-4e45-b3b7-306c715cb8c2"
      },
      "execution_count": 51,
      "outputs": [
        {
          "output_type": "execute_result",
          "data": {
            "text/plain": [
              "(2491, 4)"
            ]
          },
          "metadata": {},
          "execution_count": 51
        }
      ]
    },
    {
      "cell_type": "code",
      "source": [
        "# 5. OPTION 1 Descriptive statistics:\n",
        "# Number of users\n",
        "print('The dataset has', result1['customer_unique_id'].nunique(), 'unique users')\n",
        "# Number of products\n",
        "print('The ratings dataset has', result1['product_id'].nunique(), 'unique products')\n",
        "# Number of product categories\n",
        "print('The ratings dataset has', result1['product_category_name_english'].nunique(), 'unique product categories')\n",
        "# Number of ratings\n",
        "print('The ratings dataset has', result1['review_score'].nunique(), 'unique ratings:', sorted(result1['review_score'].unique()))"
      ],
      "metadata": {
        "colab": {
          "base_uri": "https://localhost:8080/"
        },
        "id": "MQBOn0BPB1Cn",
        "outputId": "6268d87b-71c5-46af-89d7-b74f2941fcbd"
      },
      "execution_count": 52,
      "outputs": [
        {
          "output_type": "stream",
          "name": "stdout",
          "text": [
            "The dataset has 725 unique users\n",
            "The ratings dataset has 2136 unique products\n",
            "The ratings dataset has 61 unique product categories\n",
            "The ratings dataset has 5 unique ratings: [1, 2, 3, 4, 5]\n"
          ]
        }
      ]
    },
    {
      "cell_type": "code",
      "source": [
        "result1.info()"
      ],
      "metadata": {
        "id": "T7g0ad1wESfC",
        "colab": {
          "base_uri": "https://localhost:8080/"
        },
        "outputId": "4438d704-098a-42d6-ab0b-348922cbb656"
      },
      "execution_count": 54,
      "outputs": [
        {
          "output_type": "stream",
          "name": "stdout",
          "text": [
            "<class 'pandas.core.frame.DataFrame'>\n",
            "Int64Index: 2491 entries, 238 to 97538\n",
            "Data columns (total 4 columns):\n",
            " #   Column                         Non-Null Count  Dtype \n",
            "---  ------                         --------------  ----- \n",
            " 0   customer_unique_id             2491 non-null   object\n",
            " 1   product_id                     2491 non-null   object\n",
            " 2   product_category_name_english  2491 non-null   object\n",
            " 3   review_score                   2491 non-null   int64 \n",
            "dtypes: int64(1), object(3)\n",
            "memory usage: 97.3+ KB\n"
          ]
        }
      ]
    },
    {
      "cell_type": "code",
      "source": [
        "result1.to_csv ('result_3orMore.csv', index = None, header=True)"
      ],
      "metadata": {
        "id": "z9SxNW45Hkcu"
      },
      "execution_count": 53,
      "outputs": []
    },
    {
      "cell_type": "code",
      "source": [
        "# 6. OPTION 2 To make the calculation manageable by the Google Colab memory\n",
        "# we will reduce the number of records to only those PRODUCTS that have more than 50 reviews:\n",
        "\n",
        "# firstly we count reviews per product (in a separate dataframe):\n",
        "ReviewsPerProduct = masterDF_grouped.groupby('product_id').agg(mean_rating = ('review_score', 'mean'), number_of_reviews = ('review_score', 'count')).reset_index()\n",
        "# secondly we keep the products with over 50 reviews\n",
        "ReviewsPerProduct_GT50 = ReviewsPerProduct[ReviewsPerProduct['number_of_reviews']>50]\n",
        "# thirdly filter the initial dataframe (how='inner' and on='product_id') to ensure that only the products with more than 50 reviews are included.\n",
        "result2 = pd.merge(masterDF_grouped, ReviewsPerProduct_GT50[['product_id']], on='product_id', how='inner')\n",
        "result2.shape"
      ],
      "metadata": {
        "colab": {
          "base_uri": "https://localhost:8080/"
        },
        "id": "XvPO4Q9QEohH",
        "outputId": "69cc7e2b-b02a-46bc-d87d-d91984da59b4"
      },
      "execution_count": null,
      "outputs": [
        {
          "output_type": "execute_result",
          "data": {
            "text/plain": [
              "(14632, 4)"
            ]
          },
          "metadata": {},
          "execution_count": 11
        }
      ]
    },
    {
      "cell_type": "code",
      "source": [
        "# 7. OPTION 2 Descriptive statistics:\n",
        "# Number of users\n",
        "print('The dataset has', result2['customer_unique_id'].nunique(), 'unique users')\n",
        "# Number of products\n",
        "print('The ratings dataset has', result2['product_id'].nunique(), 'unique products')\n",
        "# Number of product categories\n",
        "print('The ratings dataset has', result2['product_category_name_english'].nunique(), 'unique product categories')\n",
        "# Number of ratings\n",
        "print('The ratings dataset has', result2['review_score'].nunique(), 'unique ratings:', sorted(result1['review_score'].unique()))"
      ],
      "metadata": {
        "colab": {
          "base_uri": "https://localhost:8080/"
        },
        "id": "tUT8Qy4wG4sy",
        "outputId": "fc2569b0-f3ed-46c0-b2a4-623244c6ba08"
      },
      "execution_count": null,
      "outputs": [
        {
          "output_type": "stream",
          "name": "stdout",
          "text": [
            "The dataset has 14352 unique users\n",
            "The ratings dataset has 139 unique products\n",
            "The ratings dataset has 25 unique product categories\n",
            "The ratings dataset has 5 unique ratings: [1, 2, 3, 4, 5]\n"
          ]
        }
      ]
    },
    {
      "cell_type": "code",
      "source": [
        "result2.info()"
      ],
      "metadata": {
        "colab": {
          "base_uri": "https://localhost:8080/"
        },
        "id": "sQdvq7eyHUHe",
        "outputId": "e1e4f709-e70c-4a83-eedf-812a44fea8f1"
      },
      "execution_count": null,
      "outputs": [
        {
          "output_type": "stream",
          "name": "stdout",
          "text": [
            "<class 'pandas.core.frame.DataFrame'>\n",
            "Int64Index: 14632 entries, 0 to 14631\n",
            "Data columns (total 4 columns):\n",
            " #   Column                         Non-Null Count  Dtype \n",
            "---  ------                         --------------  ----- \n",
            " 0   customer_unique_id             14632 non-null  object\n",
            " 1   product_id                     14632 non-null  object\n",
            " 2   product_category_name_english  14632 non-null  object\n",
            " 3   review_score                   14632 non-null  int64 \n",
            "dtypes: int64(1), object(3)\n",
            "memory usage: 571.6+ KB\n"
          ]
        }
      ]
    },
    {
      "cell_type": "code",
      "source": [
        "result2.to_csv ('result2.csv', index = None, header=True)"
      ],
      "metadata": {
        "id": "6cWQAIgvHp4i"
      },
      "execution_count": null,
      "outputs": []
    }
  ],
  "metadata": {
    "colab": {
      "provenance": [],
      "mount_file_id": "1qMmuQOcALdMnThUwT40wZKN2ze5g3fFM",
      "authorship_tag": "ABX9TyOc+zUnum5X8sM5Kgu2C6iK",
      "include_colab_link": true
    },
    "kernelspec": {
      "display_name": "Python 3",
      "name": "python3"
    },
    "language_info": {
      "name": "python"
    }
  },
  "nbformat": 4,
  "nbformat_minor": 0
}